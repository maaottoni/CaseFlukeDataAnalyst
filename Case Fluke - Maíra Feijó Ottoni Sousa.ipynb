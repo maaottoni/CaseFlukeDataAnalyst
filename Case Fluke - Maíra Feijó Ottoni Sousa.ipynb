{
 "cells": [
  {
   "cell_type": "markdown",
   "metadata": {},
   "source": [
    "# 1. Importação de Bibliotecas e Carga de Dados"
   ]
  },
  {
   "cell_type": "code",
   "execution_count": 1,
   "metadata": {},
   "outputs": [
    {
     "name": "stdout",
     "output_type": "stream",
     "text": [
      "Requirement already satisfied: folium in c:\\users\\cliente\\anaconda3\\lib\\site-packages (0.11.0)\n",
      "Requirement already satisfied: numpy in c:\\users\\cliente\\anaconda3\\lib\\site-packages (from folium) (1.18.5)\n",
      "Requirement already satisfied: jinja2>=2.9 in c:\\users\\cliente\\anaconda3\\lib\\site-packages (from folium) (2.11.2)\n",
      "Requirement already satisfied: branca>=0.3.0 in c:\\users\\cliente\\anaconda3\\lib\\site-packages (from folium) (0.4.1)\n",
      "Requirement already satisfied: requests in c:\\users\\cliente\\anaconda3\\lib\\site-packages (from folium) (2.24.0)\n",
      "Requirement already satisfied: MarkupSafe>=0.23 in c:\\users\\cliente\\anaconda3\\lib\\site-packages (from jinja2>=2.9->folium) (1.1.1)\n",
      "Requirement already satisfied: chardet<4,>=3.0.2 in c:\\users\\cliente\\anaconda3\\lib\\site-packages (from requests->folium) (3.0.4)\n",
      "Requirement already satisfied: idna<3,>=2.5 in c:\\users\\cliente\\anaconda3\\lib\\site-packages (from requests->folium) (2.10)\n",
      "Requirement already satisfied: certifi>=2017.4.17 in c:\\users\\cliente\\anaconda3\\lib\\site-packages (from requests->folium) (2020.6.20)\n",
      "Requirement already satisfied: urllib3!=1.25.0,!=1.25.1,<1.26,>=1.21.1 in c:\\users\\cliente\\anaconda3\\lib\\site-packages (from requests->folium) (1.25.9)\n",
      "Requirement already satisfied: wordcloud in c:\\users\\cliente\\anaconda3\\lib\\site-packages (1.8.0)\n",
      "Requirement already satisfied: pillow in c:\\users\\cliente\\anaconda3\\lib\\site-packages (from wordcloud) (7.2.0)\n",
      "Requirement already satisfied: numpy>=1.6.1 in c:\\users\\cliente\\anaconda3\\lib\\site-packages (from wordcloud) (1.18.5)\n",
      "Requirement already satisfied: matplotlib in c:\\users\\cliente\\anaconda3\\lib\\site-packages (from wordcloud) (3.2.2)\n",
      "Requirement already satisfied: kiwisolver>=1.0.1 in c:\\users\\cliente\\anaconda3\\lib\\site-packages (from matplotlib->wordcloud) (1.2.0)\n",
      "Requirement already satisfied: python-dateutil>=2.1 in c:\\users\\cliente\\anaconda3\\lib\\site-packages (from matplotlib->wordcloud) (2.8.1)\n",
      "Requirement already satisfied: cycler>=0.10 in c:\\users\\cliente\\anaconda3\\lib\\site-packages (from matplotlib->wordcloud) (0.10.0)\n",
      "Requirement already satisfied: pyparsing!=2.0.4,!=2.1.2,!=2.1.6,>=2.0.1 in c:\\users\\cliente\\anaconda3\\lib\\site-packages (from matplotlib->wordcloud) (2.4.7)\n",
      "Requirement already satisfied: six>=1.5 in c:\\users\\cliente\\anaconda3\\lib\\site-packages (from python-dateutil>=2.1->matplotlib->wordcloud) (1.15.0)\n"
     ]
    }
   ],
   "source": [
    "! pip install folium\n",
    "! pip install wordcloud"
   ]
  },
  {
   "cell_type": "code",
   "execution_count": 2,
   "metadata": {},
   "outputs": [],
   "source": [
    "#Importing Libraries\n",
    "#Basic libraries\n",
    "import pandas as pd\n",
    "import numpy as np\n",
    "import matplotlib.pyplot as plt\n",
    "import seaborn as sns\n",
    "from scipy import stats\n",
    "import plotly as py\n",
    "import plotly.offline as pyoff\n",
    "import plotly.graph_objs as go\n",
    "\n",
    "#Fetaure Selection\n",
    "from sklearn.preprocessing import StandardScaler, MinMaxScaler, RobustScaler\n",
    "#Modelling Algoritm\n",
    "from sklearn.cluster import KMeans\n",
    "\n",
    "import folium\n",
    "from folium.plugins import FastMarkerCluster, Fullscreen, MiniMap, HeatMap, HeatMapWithTime, LocateControl\n",
    "import requests\n",
    "import json\n",
    "\n",
    "from wordcloud import WordCloud\n",
    "\n",
    "#%matplotlib inline\n",
    "#from mpl_toolkits.mplot3d import Axes3D\n",
    "#plt.rcParams['figure.figsize'] = (16, 9)\n",
    "#plt.style.use('ggplot')\n",
    "\n",
    "from datetime import datetime"
   ]
  },
  {
   "cell_type": "code",
   "execution_count": 3,
   "metadata": {},
   "outputs": [],
   "source": [
    "#Load the data\n",
    "customers_case = pd.read_csv('customers_case.csv')\n",
    "orders_case = pd.read_csv('orders_case.csv')"
   ]
  },
  {
   "cell_type": "code",
   "execution_count": 4,
   "metadata": {},
   "outputs": [
    {
     "data": {
      "text/html": [
       "<div>\n",
       "<style scoped>\n",
       "    .dataframe tbody tr th:only-of-type {\n",
       "        vertical-align: middle;\n",
       "    }\n",
       "\n",
       "    .dataframe tbody tr th {\n",
       "        vertical-align: top;\n",
       "    }\n",
       "\n",
       "    .dataframe thead th {\n",
       "        text-align: right;\n",
       "    }\n",
       "</style>\n",
       "<table border=\"1\" class=\"dataframe\">\n",
       "  <thead>\n",
       "    <tr style=\"text-align: right;\">\n",
       "      <th></th>\n",
       "      <th>uid</th>\n",
       "      <th>gender</th>\n",
       "      <th>status</th>\n",
       "      <th>statusUpdatedAt</th>\n",
       "      <th>statusPrevious</th>\n",
       "      <th>age</th>\n",
       "      <th>areaCode</th>\n",
       "      <th>state</th>\n",
       "      <th>recurrence</th>\n",
       "      <th>activation date</th>\n",
       "      <th>end portability date</th>\n",
       "      <th>current package</th>\n",
       "    </tr>\n",
       "  </thead>\n",
       "  <tbody>\n",
       "    <tr>\n",
       "      <th>0</th>\n",
       "      <td>00AJmuB7JTe5qJJuG99sLHthmVX2</td>\n",
       "      <td>masculino</td>\n",
       "      <td>paused</td>\n",
       "      <td>2/14/2021</td>\n",
       "      <td>paymentFailedSubscription</td>\n",
       "      <td>27</td>\n",
       "      <td>17</td>\n",
       "      <td>SP</td>\n",
       "      <td>monthly</td>\n",
       "      <td>12/12/2020</td>\n",
       "      <td>12/16/2020</td>\n",
       "      <td>customPackage</td>\n",
       "    </tr>\n",
       "    <tr>\n",
       "      <th>1</th>\n",
       "      <td>011nhqQ4gyMCNfwLdjjXaRPo5PF3</td>\n",
       "      <td>masculino</td>\n",
       "      <td>active</td>\n",
       "      <td>3/3/2021</td>\n",
       "      <td>activationComplete</td>\n",
       "      <td>32</td>\n",
       "      <td>64</td>\n",
       "      <td>GO</td>\n",
       "      <td>monthly</td>\n",
       "      <td>3/3/2021</td>\n",
       "      <td>3/6/2021</td>\n",
       "      <td>customPackage</td>\n",
       "    </tr>\n",
       "    <tr>\n",
       "      <th>2</th>\n",
       "      <td>01zSzL2oaLYLVlsHeHFyiVyyvf82</td>\n",
       "      <td>masculino</td>\n",
       "      <td>canceled</td>\n",
       "      <td>2/21/2021</td>\n",
       "      <td>cancelRequested</td>\n",
       "      <td>54</td>\n",
       "      <td>11</td>\n",
       "      <td>SP</td>\n",
       "      <td>weekly</td>\n",
       "      <td>10/23/2020</td>\n",
       "      <td>NaN</td>\n",
       "      <td>customPackage</td>\n",
       "    </tr>\n",
       "    <tr>\n",
       "      <th>3</th>\n",
       "      <td>027onaL5DKXWigqGc4ZOiBniTJC2</td>\n",
       "      <td>feminino</td>\n",
       "      <td>active</td>\n",
       "      <td>3/3/2021</td>\n",
       "      <td>processingSubscription</td>\n",
       "      <td>54</td>\n",
       "      <td>19</td>\n",
       "      <td>SP</td>\n",
       "      <td>weekly</td>\n",
       "      <td>9/9/2020</td>\n",
       "      <td>9/15/2020</td>\n",
       "      <td>customPackage</td>\n",
       "    </tr>\n",
       "    <tr>\n",
       "      <th>4</th>\n",
       "      <td>02DozqKFn1RmId9AKn0xPumtb8L2</td>\n",
       "      <td>feminino</td>\n",
       "      <td>active</td>\n",
       "      <td>2/16/2021</td>\n",
       "      <td>processingSubscription</td>\n",
       "      <td>30</td>\n",
       "      <td>11</td>\n",
       "      <td>SP</td>\n",
       "      <td>monthly</td>\n",
       "      <td>9/16/2020</td>\n",
       "      <td>9/21/2020</td>\n",
       "      <td>customPackage</td>\n",
       "    </tr>\n",
       "  </tbody>\n",
       "</table>\n",
       "</div>"
      ],
      "text/plain": [
       "                            uid     gender    status statusUpdatedAt  \\\n",
       "0  00AJmuB7JTe5qJJuG99sLHthmVX2  masculino    paused       2/14/2021   \n",
       "1  011nhqQ4gyMCNfwLdjjXaRPo5PF3  masculino    active        3/3/2021   \n",
       "2  01zSzL2oaLYLVlsHeHFyiVyyvf82  masculino  canceled       2/21/2021   \n",
       "3  027onaL5DKXWigqGc4ZOiBniTJC2   feminino    active        3/3/2021   \n",
       "4  02DozqKFn1RmId9AKn0xPumtb8L2   feminino    active       2/16/2021   \n",
       "\n",
       "              statusPrevious age  areaCode state recurrence activation date  \\\n",
       "0  paymentFailedSubscription  27        17    SP    monthly      12/12/2020   \n",
       "1         activationComplete  32        64    GO    monthly        3/3/2021   \n",
       "2            cancelRequested  54        11    SP     weekly      10/23/2020   \n",
       "3     processingSubscription  54        19    SP     weekly        9/9/2020   \n",
       "4     processingSubscription  30        11    SP    monthly       9/16/2020   \n",
       "\n",
       "  end portability date current package  \n",
       "0           12/16/2020   customPackage  \n",
       "1             3/6/2021   customPackage  \n",
       "2                  NaN   customPackage  \n",
       "3            9/15/2020   customPackage  \n",
       "4            9/21/2020   customPackage  "
      ]
     },
     "execution_count": 4,
     "metadata": {},
     "output_type": "execute_result"
    }
   ],
   "source": [
    "customers_case.head()"
   ]
  },
  {
   "cell_type": "code",
   "execution_count": 5,
   "metadata": {},
   "outputs": [
    {
     "data": {
      "text/html": [
       "<div>\n",
       "<style scoped>\n",
       "    .dataframe tbody tr th:only-of-type {\n",
       "        vertical-align: middle;\n",
       "    }\n",
       "\n",
       "    .dataframe tbody tr th {\n",
       "        vertical-align: top;\n",
       "    }\n",
       "\n",
       "    .dataframe thead th {\n",
       "        text-align: right;\n",
       "    }\n",
       "</style>\n",
       "<table border=\"1\" class=\"dataframe\">\n",
       "  <thead>\n",
       "    <tr style=\"text-align: right;\">\n",
       "      <th></th>\n",
       "      <th>order_id</th>\n",
       "      <th>customer_id</th>\n",
       "      <th>produtos</th>\n",
       "      <th># pacotes</th>\n",
       "      <th>preços</th>\n",
       "      <th>totais por item</th>\n",
       "      <th>created_at</th>\n",
       "    </tr>\n",
       "  </thead>\n",
       "  <tbody>\n",
       "    <tr>\n",
       "      <th>0</th>\n",
       "      <td>or_4Xz6xWbt4TgodBv3</td>\n",
       "      <td>vqjGBJvV3FSW6iVyrZJcqc7bpcp2</td>\n",
       "      <td>10 SMS Top Up</td>\n",
       "      <td>1</td>\n",
       "      <td>1.0</td>\n",
       "      <td>1.0</td>\n",
       "      <td>11/3/2021</td>\n",
       "    </tr>\n",
       "    <tr>\n",
       "      <th>1</th>\n",
       "      <td>or_OA9wkYlBFzU4Z18p</td>\n",
       "      <td>egTCtqIGIdUcYJ9YW5XR9jGT0xq1</td>\n",
       "      <td>Renovação do APP</td>\n",
       "      <td>1</td>\n",
       "      <td>2.0</td>\n",
       "      <td>2.0</td>\n",
       "      <td>11/3/2021</td>\n",
       "    </tr>\n",
       "    <tr>\n",
       "      <th>2</th>\n",
       "      <td>or_gx7JQkmhBGuZdA5B</td>\n",
       "      <td>yFAto5jZikc2Qn8GpBgQ2JpCjQa2</td>\n",
       "      <td>30 Minutos de Ligação Top Up</td>\n",
       "      <td>1</td>\n",
       "      <td>3.0</td>\n",
       "      <td>3.0</td>\n",
       "      <td>11/3/2021</td>\n",
       "    </tr>\n",
       "    <tr>\n",
       "      <th>3</th>\n",
       "      <td>or_Agv82WqRiOFmJPOw</td>\n",
       "      <td>WdvWQvptawckUZjMHslFsb6fni62</td>\n",
       "      <td>30 Minutos de Ligação Top Up</td>\n",
       "      <td>1</td>\n",
       "      <td>3.0</td>\n",
       "      <td>3.0</td>\n",
       "      <td>11/3/2021</td>\n",
       "    </tr>\n",
       "    <tr>\n",
       "      <th>4</th>\n",
       "      <td>or_bqKL5ZVtNf85O90G</td>\n",
       "      <td>O3ildaFLPCRQuBwslcxNz2sbQRP2</td>\n",
       "      <td>30 Minutos de Ligação Top Up</td>\n",
       "      <td>1</td>\n",
       "      <td>3.0</td>\n",
       "      <td>3.0</td>\n",
       "      <td>11/3/2021</td>\n",
       "    </tr>\n",
       "  </tbody>\n",
       "</table>\n",
       "</div>"
      ],
      "text/plain": [
       "              order_id                   customer_id  \\\n",
       "0  or_4Xz6xWbt4TgodBv3  vqjGBJvV3FSW6iVyrZJcqc7bpcp2   \n",
       "1  or_OA9wkYlBFzU4Z18p  egTCtqIGIdUcYJ9YW5XR9jGT0xq1   \n",
       "2  or_gx7JQkmhBGuZdA5B  yFAto5jZikc2Qn8GpBgQ2JpCjQa2   \n",
       "3  or_Agv82WqRiOFmJPOw  WdvWQvptawckUZjMHslFsb6fni62   \n",
       "4  or_bqKL5ZVtNf85O90G  O3ildaFLPCRQuBwslcxNz2sbQRP2   \n",
       "\n",
       "                       produtos  # pacotes  preços  totais por item created_at  \n",
       "0                 10 SMS Top Up          1     1.0              1.0  11/3/2021  \n",
       "1              Renovação do APP          1     2.0              2.0  11/3/2021  \n",
       "2  30 Minutos de Ligação Top Up          1     3.0              3.0  11/3/2021  \n",
       "3  30 Minutos de Ligação Top Up          1     3.0              3.0  11/3/2021  \n",
       "4  30 Minutos de Ligação Top Up          1     3.0              3.0  11/3/2021  "
      ]
     },
     "execution_count": 5,
     "metadata": {},
     "output_type": "execute_result"
    }
   ],
   "source": [
    "orders_case.head()"
   ]
  },
  {
   "cell_type": "markdown",
   "metadata": {},
   "source": [
    "# 2. Pré-processamento dos Datos"
   ]
  },
  {
   "cell_type": "markdown",
   "metadata": {},
   "source": [
    "#### Nomes de colunas"
   ]
  },
  {
   "cell_type": "code",
   "execution_count": 6,
   "metadata": {},
   "outputs": [
    {
     "data": {
      "text/plain": [
       "Index(['uid', 'gender', 'status', 'statusUpdatedAt', 'statusPrevious', 'age',\n",
       "       'areaCode', 'state', 'recurrence', 'activation_date',\n",
       "       'end_portability_date', 'current_package'],\n",
       "      dtype='object')"
      ]
     },
     "execution_count": 6,
     "metadata": {},
     "output_type": "execute_result"
    }
   ],
   "source": [
    "# Adequamos os nomes das colunas para que não tenham espaço entre as palavras\n",
    "# Customer\n",
    "customer_columns = customers_case.columns.to_list()\n",
    "customer_columns_replaced = []\n",
    "\n",
    "for column in customer_columns:\n",
    "    new_name = column.replace(' ','_')\n",
    "    customer_columns_replaced.append(new_name)\n",
    "    \n",
    "customers_case.columns = customer_columns_replaced \n",
    "customers_case.columns "
   ]
  },
  {
   "cell_type": "code",
   "execution_count": 7,
   "metadata": {},
   "outputs": [],
   "source": [
    "#Adequando o nome da coluna customer_id\n",
    "customers_case = customers_case.rename(columns = {'uid':'customer_id'})"
   ]
  },
  {
   "cell_type": "code",
   "execution_count": 8,
   "metadata": {},
   "outputs": [
    {
     "data": {
      "text/plain": [
       "Index(['order_id', 'customer_id', 'produtos', 'pacotes', 'preços',\n",
       "       'totais_por_item', 'created_at'],\n",
       "      dtype='object')"
      ]
     },
     "execution_count": 8,
     "metadata": {},
     "output_type": "execute_result"
    }
   ],
   "source": [
    "# Orders\n",
    "orders_columns = orders_case.columns.to_list()\n",
    "orders_columns_replaced = []\n",
    "\n",
    "for column in orders_columns:\n",
    "    new_name = column.replace('# ','').replace(' ','_')\n",
    "    orders_columns_replaced.append(new_name)\n",
    "    \n",
    "orders_case.columns = orders_columns_replaced \n",
    "orders_case.columns "
   ]
  },
  {
   "cell_type": "markdown",
   "metadata": {},
   "source": [
    "#### Tipos de dados"
   ]
  },
  {
   "cell_type": "markdown",
   "metadata": {},
   "source": [
    "Essa etapa tem como objetivo ajustar os tipos de dados de acordo com suas características."
   ]
  },
  {
   "cell_type": "markdown",
   "metadata": {},
   "source": [
    "<b> customers_case:</b> As variáveis age, activation_date e end_portability_date não possuem o tipo de dado adequado, que são inteiro e data respectivamente. Desta forma, procedemos para corrigí-los:"
   ]
  },
  {
   "cell_type": "code",
   "execution_count": 9,
   "metadata": {},
   "outputs": [
    {
     "name": "stdout",
     "output_type": "stream",
     "text": [
      "<class 'pandas.core.frame.DataFrame'>\n",
      "RangeIndex: 5130 entries, 0 to 5129\n",
      "Data columns (total 12 columns):\n",
      " #   Column                Non-Null Count  Dtype \n",
      "---  ------                --------------  ----- \n",
      " 0   customer_id           5130 non-null   object\n",
      " 1   gender                5130 non-null   object\n",
      " 2   status                5130 non-null   object\n",
      " 3   statusUpdatedAt       5130 non-null   object\n",
      " 4   statusPrevious        5130 non-null   object\n",
      " 5   age                   5130 non-null   object\n",
      " 6   areaCode              5130 non-null   int64 \n",
      " 7   state                 5130 non-null   object\n",
      " 8   recurrence            5130 non-null   object\n",
      " 9   activation_date       5130 non-null   object\n",
      " 10  end_portability_date  2023 non-null   object\n",
      " 11  current_package       5130 non-null   object\n",
      "dtypes: int64(1), object(11)\n",
      "memory usage: 481.1+ KB\n"
     ]
    }
   ],
   "source": [
    "customers_case.info()"
   ]
  },
  {
   "cell_type": "code",
   "execution_count": 10,
   "metadata": {},
   "outputs": [],
   "source": [
    "#Data\n",
    "customers_date_columns = ['statusUpdatedAt', 'activation_date', 'end_portability_date']\n",
    "\n",
    "for col in customers_date_columns:\n",
    "    customers_case[col] = pd.to_datetime(customers_case[col])"
   ]
  },
  {
   "cell_type": "code",
   "execution_count": 11,
   "metadata": {},
   "outputs": [
    {
     "ename": "ValueError",
     "evalue": "Unable to parse string \"#VALOR!\" at position 4469",
     "output_type": "error",
     "traceback": [
      "\u001b[1;31m---------------------------------------------------------------------------\u001b[0m",
      "\u001b[1;31mValueError\u001b[0m                                Traceback (most recent call last)",
      "\u001b[1;32mpandas\\_libs\\lib.pyx\u001b[0m in \u001b[0;36mpandas._libs.lib.maybe_convert_numeric\u001b[1;34m()\u001b[0m\n",
      "\u001b[1;31mValueError\u001b[0m: Unable to parse string \"#VALOR!\"",
      "\nDuring handling of the above exception, another exception occurred:\n",
      "\u001b[1;31mValueError\u001b[0m                                Traceback (most recent call last)",
      "\u001b[1;32m<ipython-input-11-f693f43f37c5>\u001b[0m in \u001b[0;36m<module>\u001b[1;34m\u001b[0m\n\u001b[0;32m      1\u001b[0m \u001b[1;31m# Inteiro\u001b[0m\u001b[1;33m\u001b[0m\u001b[1;33m\u001b[0m\u001b[1;33m\u001b[0m\u001b[0m\n\u001b[1;32m----> 2\u001b[1;33m \u001b[0mcustomers_case\u001b[0m\u001b[1;33m[\u001b[0m\u001b[1;34m'age'\u001b[0m\u001b[1;33m]\u001b[0m \u001b[1;33m=\u001b[0m \u001b[0mpd\u001b[0m\u001b[1;33m.\u001b[0m\u001b[0mto_numeric\u001b[0m\u001b[1;33m(\u001b[0m\u001b[0mcustomers_case\u001b[0m\u001b[1;33m[\u001b[0m\u001b[1;34m'age'\u001b[0m\u001b[1;33m]\u001b[0m\u001b[1;33m)\u001b[0m\u001b[1;33m\u001b[0m\u001b[1;33m\u001b[0m\u001b[0m\n\u001b[0m",
      "\u001b[1;32m~\\anaconda3\\lib\\site-packages\\pandas\\core\\tools\\numeric.py\u001b[0m in \u001b[0;36mto_numeric\u001b[1;34m(arg, errors, downcast)\u001b[0m\n\u001b[0;32m    147\u001b[0m         \u001b[0mcoerce_numeric\u001b[0m \u001b[1;33m=\u001b[0m \u001b[0merrors\u001b[0m \u001b[1;32mnot\u001b[0m \u001b[1;32min\u001b[0m \u001b[1;33m(\u001b[0m\u001b[1;34m\"ignore\"\u001b[0m\u001b[1;33m,\u001b[0m \u001b[1;34m\"raise\"\u001b[0m\u001b[1;33m)\u001b[0m\u001b[1;33m\u001b[0m\u001b[1;33m\u001b[0m\u001b[0m\n\u001b[0;32m    148\u001b[0m         \u001b[1;32mtry\u001b[0m\u001b[1;33m:\u001b[0m\u001b[1;33m\u001b[0m\u001b[1;33m\u001b[0m\u001b[0m\n\u001b[1;32m--> 149\u001b[1;33m             values = lib.maybe_convert_numeric(\n\u001b[0m\u001b[0;32m    150\u001b[0m                 \u001b[0mvalues\u001b[0m\u001b[1;33m,\u001b[0m \u001b[0mset\u001b[0m\u001b[1;33m(\u001b[0m\u001b[1;33m)\u001b[0m\u001b[1;33m,\u001b[0m \u001b[0mcoerce_numeric\u001b[0m\u001b[1;33m=\u001b[0m\u001b[0mcoerce_numeric\u001b[0m\u001b[1;33m\u001b[0m\u001b[1;33m\u001b[0m\u001b[0m\n\u001b[0;32m    151\u001b[0m             )\n",
      "\u001b[1;32mpandas\\_libs\\lib.pyx\u001b[0m in \u001b[0;36mpandas._libs.lib.maybe_convert_numeric\u001b[1;34m()\u001b[0m\n",
      "\u001b[1;31mValueError\u001b[0m: Unable to parse string \"#VALOR!\" at position 4469"
     ]
    }
   ],
   "source": [
    "# Inteiro\n",
    "customers_case['age'] = pd.to_numeric(customers_case['age'])"
   ]
  },
  {
   "cell_type": "markdown",
   "metadata": {},
   "source": [
    "Ao tentar converter os valores de idade como valores numéricos, percebemos que há uma inconsistência na linha 4469, onde a idade não foi registrada corretamente:"
   ]
  },
  {
   "cell_type": "code",
   "execution_count": 12,
   "metadata": {},
   "outputs": [
    {
     "data": {
      "text/plain": [
       "customer_id             rrri0ojSzGPORFm5pys1CYzAdR83\n",
       "gender                                     masculino\n",
       "status                                        paused\n",
       "statusUpdatedAt                  2021-02-22 00:00:00\n",
       "statusPrevious             paymentFailedSubscription\n",
       "age                                          #VALOR!\n",
       "areaCode                                          17\n",
       "state                                             SP\n",
       "recurrence                                   monthly\n",
       "activation_date                  2020-12-18 00:00:00\n",
       "end_portability_date                             NaT\n",
       "current_package                        customPackage\n",
       "Name: 4469, dtype: object"
      ]
     },
     "execution_count": 12,
     "metadata": {},
     "output_type": "execute_result"
    }
   ],
   "source": [
    "customers_case.loc[4469]"
   ]
  },
  {
   "cell_type": "markdown",
   "metadata": {},
   "source": [
    "Para corrigir essa inconsistência sem precisar deletar tal linha do conjunto de dados, iremos inputar o como idade a média das idades dos outros clientes. Assim, primeiramente calculamos a média das idades:"
   ]
  },
  {
   "cell_type": "code",
   "execution_count": 13,
   "metadata": {},
   "outputs": [
    {
     "name": "stdout",
     "output_type": "stream",
     "text": [
      "A média de idade é: 29\n"
     ]
    }
   ],
   "source": [
    "#Selecionamos a coluna idade\n",
    "customers_age = customers_case[['age']]\n",
    "\n",
    "#Removemos a célula com valor inconsistente\n",
    "customers_age = customers_age.drop(customers_age[customers_age['age']==\"#VALOR!\"].index)\n",
    "\n",
    "# Convertemos os valores para inteiro\n",
    "customers_age['age'] = customers_age['age'].astype(int)\n",
    "\n",
    "#Calculamos a média dos valores de idade\n",
    "mean_age = round(customers_age['age'].mean())\n",
    "print(\"A média de idade é: %s\" % mean_age)"
   ]
  },
  {
   "cell_type": "code",
   "execution_count": 14,
   "metadata": {},
   "outputs": [
    {
     "data": {
      "text/plain": [
       "customer_id             rrri0ojSzGPORFm5pys1CYzAdR83\n",
       "gender                                     masculino\n",
       "status                                        paused\n",
       "statusUpdatedAt                  2021-02-22 00:00:00\n",
       "statusPrevious             paymentFailedSubscription\n",
       "age                                               29\n",
       "areaCode                                          17\n",
       "state                                             SP\n",
       "recurrence                                   monthly\n",
       "activation_date                  2020-12-18 00:00:00\n",
       "end_portability_date                             NaT\n",
       "current_package                        customPackage\n",
       "Name: 4469, dtype: object"
      ]
     },
     "execution_count": 14,
     "metadata": {},
     "output_type": "execute_result"
    }
   ],
   "source": [
    "#Inputamos o valor da média das idades na linha 4469 no dataset customes_case\n",
    "customers_case['age'] = customers_case['age'].replace('#VALOR!', mean_age)\n",
    "\n",
    "# Valor de idade corrigido\n",
    "customers_case.loc[4469]"
   ]
  },
  {
   "cell_type": "code",
   "execution_count": 15,
   "metadata": {},
   "outputs": [
    {
     "name": "stdout",
     "output_type": "stream",
     "text": [
      "<class 'pandas.core.frame.DataFrame'>\n",
      "RangeIndex: 5130 entries, 0 to 5129\n",
      "Data columns (total 12 columns):\n",
      " #   Column                Non-Null Count  Dtype         \n",
      "---  ------                --------------  -----         \n",
      " 0   customer_id           5130 non-null   object        \n",
      " 1   gender                5130 non-null   object        \n",
      " 2   status                5130 non-null   object        \n",
      " 3   statusUpdatedAt       5130 non-null   datetime64[ns]\n",
      " 4   statusPrevious        5130 non-null   object        \n",
      " 5   age                   5130 non-null   int64         \n",
      " 6   areaCode              5130 non-null   int64         \n",
      " 7   state                 5130 non-null   object        \n",
      " 8   recurrence            5130 non-null   object        \n",
      " 9   activation_date       5130 non-null   datetime64[ns]\n",
      " 10  end_portability_date  2023 non-null   datetime64[ns]\n",
      " 11  current_package       5130 non-null   object        \n",
      "dtypes: datetime64[ns](3), int64(2), object(7)\n",
      "memory usage: 481.1+ KB\n"
     ]
    }
   ],
   "source": [
    "# Convertemos a coluna age para valores inteiros\n",
    "customers_case['age'] = pd.to_numeric(customers_case['age'])\n",
    "\n",
    "#Colunas com tipos de dados adequados\n",
    "customers_case.info()"
   ]
  },
  {
   "cell_type": "markdown",
   "metadata": {},
   "source": [
    "<b> orders_case: </b> a variável created_at não está assignada com o tipo date, desta forma procedemos com a correção:"
   ]
  },
  {
   "cell_type": "code",
   "execution_count": 16,
   "metadata": {},
   "outputs": [
    {
     "name": "stdout",
     "output_type": "stream",
     "text": [
      "<class 'pandas.core.frame.DataFrame'>\n",
      "RangeIndex: 70255 entries, 0 to 70254\n",
      "Data columns (total 7 columns):\n",
      " #   Column           Non-Null Count  Dtype  \n",
      "---  ------           --------------  -----  \n",
      " 0   order_id         70255 non-null  object \n",
      " 1   customer_id      70255 non-null  object \n",
      " 2   produtos         70255 non-null  object \n",
      " 3   pacotes          70255 non-null  int64  \n",
      " 4   preços           70255 non-null  float64\n",
      " 5   totais_por_item  70255 non-null  float64\n",
      " 6   created_at       70255 non-null  object \n",
      "dtypes: float64(2), int64(1), object(4)\n",
      "memory usage: 3.8+ MB\n"
     ]
    }
   ],
   "source": [
    "orders_case.info()"
   ]
  },
  {
   "cell_type": "code",
   "execution_count": 17,
   "metadata": {},
   "outputs": [],
   "source": [
    "#Data\n",
    "orders_case['created_at'] = pd.to_datetime(orders_case['created_at'])"
   ]
  },
  {
   "cell_type": "code",
   "execution_count": 18,
   "metadata": {},
   "outputs": [
    {
     "name": "stdout",
     "output_type": "stream",
     "text": [
      "<class 'pandas.core.frame.DataFrame'>\n",
      "RangeIndex: 70255 entries, 0 to 70254\n",
      "Data columns (total 7 columns):\n",
      " #   Column           Non-Null Count  Dtype         \n",
      "---  ------           --------------  -----         \n",
      " 0   order_id         70255 non-null  object        \n",
      " 1   customer_id      70255 non-null  object        \n",
      " 2   produtos         70255 non-null  object        \n",
      " 3   pacotes          70255 non-null  int64         \n",
      " 4   preços           70255 non-null  float64       \n",
      " 5   totais_por_item  70255 non-null  float64       \n",
      " 6   created_at       70255 non-null  datetime64[ns]\n",
      "dtypes: datetime64[ns](1), float64(2), int64(1), object(3)\n",
      "memory usage: 3.8+ MB\n"
     ]
    }
   ],
   "source": [
    "orders_case.info()"
   ]
  },
  {
   "cell_type": "markdown",
   "metadata": {},
   "source": [
    "#### Verificar Valores Nulos"
   ]
  },
  {
   "cell_type": "code",
   "execution_count": 19,
   "metadata": {},
   "outputs": [
    {
     "data": {
      "text/plain": [
       "customer_id                0\n",
       "gender                     0\n",
       "status                     0\n",
       "statusUpdatedAt            0\n",
       "statusPrevious             0\n",
       "age                        0\n",
       "areaCode                   0\n",
       "state                      0\n",
       "recurrence                 0\n",
       "activation_date            0\n",
       "end_portability_date    3107\n",
       "current_package            0\n",
       "dtype: int64"
      ]
     },
     "execution_count": 19,
     "metadata": {},
     "output_type": "execute_result"
    }
   ],
   "source": [
    "customers_case.isnull().sum()"
   ]
  },
  {
   "cell_type": "code",
   "execution_count": 20,
   "metadata": {},
   "outputs": [
    {
     "data": {
      "text/plain": [
       "order_id           0\n",
       "customer_id        0\n",
       "produtos           0\n",
       "pacotes            0\n",
       "preços             0\n",
       "totais_por_item    0\n",
       "created_at         0\n",
       "dtype: int64"
      ]
     },
     "execution_count": 20,
     "metadata": {},
     "output_type": "execute_result"
    }
   ],
   "source": [
    "orders_case.isnull().sum()"
   ]
  },
  {
   "cell_type": "markdown",
   "metadata": {},
   "source": [
    "A única coluna que possui valores nulos é a coluna referente à data da portabilidade do cliente em orders_case, conclui-se desta forma, que as linhas que possuem NaN indicam que o cliente não solicitou portabilidade. "
   ]
  },
  {
   "cell_type": "markdown",
   "metadata": {},
   "source": [
    "# 3. Feature Engineering"
   ]
  },
  {
   "cell_type": "markdown",
   "metadata": {},
   "source": [
    "Nessa etapa serão criadas novas variáveis com base nas existentes para extração de alguns insights que possam ajudar nas análises."
   ]
  },
  {
   "cell_type": "markdown",
   "metadata": {},
   "source": [
    "<b> Customer Tenure: </b> Calcular há quanto tempo (meses) os clientes estão com a empresa."
   ]
  },
  {
   "cell_type": "code",
   "execution_count": 21,
   "metadata": {},
   "outputs": [
    {
     "data": {
      "text/plain": [
       "0       3\n",
       "1       0\n",
       "2       4\n",
       "3       6\n",
       "4       6\n",
       "       ..\n",
       "5125    7\n",
       "5126    4\n",
       "5127    7\n",
       "5128    5\n",
       "5129    5\n",
       "Name: tenure, Length: 5130, dtype: int32"
      ]
     },
     "execution_count": 21,
     "metadata": {},
     "output_type": "execute_result"
    }
   ],
   "source": [
    "now = pd.Timestamp.now()\n",
    "customers_case['tenure'] =(now - customers_case['activation_date']).astype('<m8[M]').astype(int)\n",
    "customers_case['tenure']"
   ]
  },
  {
   "cell_type": "code",
   "execution_count": 22,
   "metadata": {},
   "outputs": [
    {
     "data": {
      "text/html": [
       "<div>\n",
       "<style scoped>\n",
       "    .dataframe tbody tr th:only-of-type {\n",
       "        vertical-align: middle;\n",
       "    }\n",
       "\n",
       "    .dataframe tbody tr th {\n",
       "        vertical-align: top;\n",
       "    }\n",
       "\n",
       "    .dataframe thead th {\n",
       "        text-align: right;\n",
       "    }\n",
       "</style>\n",
       "<table border=\"1\" class=\"dataframe\">\n",
       "  <thead>\n",
       "    <tr style=\"text-align: right;\">\n",
       "      <th></th>\n",
       "      <th>customer_id</th>\n",
       "      <th>gender</th>\n",
       "      <th>status</th>\n",
       "      <th>statusUpdatedAt</th>\n",
       "      <th>statusPrevious</th>\n",
       "      <th>age</th>\n",
       "      <th>areaCode</th>\n",
       "      <th>state</th>\n",
       "      <th>recurrence</th>\n",
       "      <th>activation_date</th>\n",
       "      <th>end_portability_date</th>\n",
       "      <th>current_package</th>\n",
       "      <th>tenure</th>\n",
       "    </tr>\n",
       "  </thead>\n",
       "  <tbody>\n",
       "    <tr>\n",
       "      <th>0</th>\n",
       "      <td>00AJmuB7JTe5qJJuG99sLHthmVX2</td>\n",
       "      <td>masculino</td>\n",
       "      <td>paused</td>\n",
       "      <td>2021-02-14</td>\n",
       "      <td>paymentFailedSubscription</td>\n",
       "      <td>27</td>\n",
       "      <td>17</td>\n",
       "      <td>SP</td>\n",
       "      <td>monthly</td>\n",
       "      <td>2020-12-12</td>\n",
       "      <td>2020-12-16</td>\n",
       "      <td>customPackage</td>\n",
       "      <td>3</td>\n",
       "    </tr>\n",
       "    <tr>\n",
       "      <th>1</th>\n",
       "      <td>011nhqQ4gyMCNfwLdjjXaRPo5PF3</td>\n",
       "      <td>masculino</td>\n",
       "      <td>active</td>\n",
       "      <td>2021-03-03</td>\n",
       "      <td>activationComplete</td>\n",
       "      <td>32</td>\n",
       "      <td>64</td>\n",
       "      <td>GO</td>\n",
       "      <td>monthly</td>\n",
       "      <td>2021-03-03</td>\n",
       "      <td>2021-03-06</td>\n",
       "      <td>customPackage</td>\n",
       "      <td>0</td>\n",
       "    </tr>\n",
       "    <tr>\n",
       "      <th>2</th>\n",
       "      <td>01zSzL2oaLYLVlsHeHFyiVyyvf82</td>\n",
       "      <td>masculino</td>\n",
       "      <td>canceled</td>\n",
       "      <td>2021-02-21</td>\n",
       "      <td>cancelRequested</td>\n",
       "      <td>54</td>\n",
       "      <td>11</td>\n",
       "      <td>SP</td>\n",
       "      <td>weekly</td>\n",
       "      <td>2020-10-23</td>\n",
       "      <td>NaT</td>\n",
       "      <td>customPackage</td>\n",
       "      <td>4</td>\n",
       "    </tr>\n",
       "    <tr>\n",
       "      <th>3</th>\n",
       "      <td>027onaL5DKXWigqGc4ZOiBniTJC2</td>\n",
       "      <td>feminino</td>\n",
       "      <td>active</td>\n",
       "      <td>2021-03-03</td>\n",
       "      <td>processingSubscription</td>\n",
       "      <td>54</td>\n",
       "      <td>19</td>\n",
       "      <td>SP</td>\n",
       "      <td>weekly</td>\n",
       "      <td>2020-09-09</td>\n",
       "      <td>2020-09-15</td>\n",
       "      <td>customPackage</td>\n",
       "      <td>6</td>\n",
       "    </tr>\n",
       "    <tr>\n",
       "      <th>4</th>\n",
       "      <td>02DozqKFn1RmId9AKn0xPumtb8L2</td>\n",
       "      <td>feminino</td>\n",
       "      <td>active</td>\n",
       "      <td>2021-02-16</td>\n",
       "      <td>processingSubscription</td>\n",
       "      <td>30</td>\n",
       "      <td>11</td>\n",
       "      <td>SP</td>\n",
       "      <td>monthly</td>\n",
       "      <td>2020-09-16</td>\n",
       "      <td>2020-09-21</td>\n",
       "      <td>customPackage</td>\n",
       "      <td>6</td>\n",
       "    </tr>\n",
       "  </tbody>\n",
       "</table>\n",
       "</div>"
      ],
      "text/plain": [
       "                    customer_id     gender    status statusUpdatedAt  \\\n",
       "0  00AJmuB7JTe5qJJuG99sLHthmVX2  masculino    paused      2021-02-14   \n",
       "1  011nhqQ4gyMCNfwLdjjXaRPo5PF3  masculino    active      2021-03-03   \n",
       "2  01zSzL2oaLYLVlsHeHFyiVyyvf82  masculino  canceled      2021-02-21   \n",
       "3  027onaL5DKXWigqGc4ZOiBniTJC2   feminino    active      2021-03-03   \n",
       "4  02DozqKFn1RmId9AKn0xPumtb8L2   feminino    active      2021-02-16   \n",
       "\n",
       "              statusPrevious  age  areaCode state recurrence activation_date  \\\n",
       "0  paymentFailedSubscription   27        17    SP    monthly      2020-12-12   \n",
       "1         activationComplete   32        64    GO    monthly      2021-03-03   \n",
       "2            cancelRequested   54        11    SP     weekly      2020-10-23   \n",
       "3     processingSubscription   54        19    SP     weekly      2020-09-09   \n",
       "4     processingSubscription   30        11    SP    monthly      2020-09-16   \n",
       "\n",
       "  end_portability_date current_package  tenure  \n",
       "0           2020-12-16   customPackage       3  \n",
       "1           2021-03-06   customPackage       0  \n",
       "2                  NaT   customPackage       4  \n",
       "3           2020-09-15   customPackage       6  \n",
       "4           2020-09-21   customPackage       6  "
      ]
     },
     "execution_count": 22,
     "metadata": {},
     "output_type": "execute_result"
    }
   ],
   "source": [
    "customers_case.head()"
   ]
  },
  {
   "cell_type": "markdown",
   "metadata": {},
   "source": [
    "<b> Time Canceled: </b> Calcular para os clientes que cancelaram, quanto tempo (meses) após a ativação realizaram o cancelamento (Comparar activation date con statusUpdatedAt). Para facilitar a execução, o cálculo será realizado para todos os clientes e, depois, durante as análises serão filtrados para os clientes que cancelaram realmente."
   ]
  },
  {
   "cell_type": "code",
   "execution_count": 195,
   "metadata": {},
   "outputs": [
    {
     "data": {
      "text/plain": [
       "0       2\n",
       "1       0\n",
       "2       3\n",
       "3       5\n",
       "4       5\n",
       "       ..\n",
       "5125    0\n",
       "5126    2\n",
       "5127    6\n",
       "5128    1\n",
       "5129    4\n",
       "Name: time_canceled, Length: 5130, dtype: int32"
      ]
     },
     "execution_count": 195,
     "metadata": {},
     "output_type": "execute_result"
    }
   ],
   "source": [
    "customers_case['time_canceled'] = (customers_case['statusUpdatedAt'] - customers_case['activation_date'] ).astype('<m8[M]').astype(int)\n",
    "customers_case['time_canceled']"
   ]
  },
  {
   "cell_type": "markdown",
   "metadata": {},
   "source": [
    "<b> Customer Target: </b>Para melhor compreender o perfil dos clientes que deixam de utilizar os serviços da empresa, criaremos categorias para os clientes de acordo com seus status:\n",
    "\n",
    "<ul>\n",
    "    <li>Target <b>1</b>: Clientes que deixaram os serviços da empresa ou estão em vias de - status <b>'canceled'</b> e <b>'cancelRequested'</b>.</li>\n",
    "    <li>Target <b>2.</b>: Aqui considera-se que os clientes nessa categoria possuem maior possibilidade de cancelar os serviços da empresa em breve. São considerados os status <b>'paused'</b> e <b>'paymentFailedSubscription'</b></li>\n",
    "    <li>Target <b>3</b>: Clientes ativos. <b>'active'</b></li>\n",
    "    </ul>"
   ]
  },
  {
   "cell_type": "code",
   "execution_count": 197,
   "metadata": {},
   "outputs": [
    {
     "data": {
      "text/plain": [
       "array(['paused', 'active', 'canceled', 'cancelRequested',\n",
       "       'paymentFailedSubscription'], dtype=object)"
      ]
     },
     "execution_count": 197,
     "metadata": {},
     "output_type": "execute_result"
    }
   ],
   "source": [
    "customers_case['status'].unique()"
   ]
  },
  {
   "cell_type": "code",
   "execution_count": 198,
   "metadata": {},
   "outputs": [],
   "source": [
    "#Função para assignação de categorias com base no status do cliente\n",
    "def client_target(df):\n",
    "    if (df['status']=='canceled' or df['status']=='cancelRequested'):\n",
    "        return '1'\n",
    "    elif (df['status']=='paused' or df['status']=='paymentFailedSubscription'):\n",
    "        return '2'\n",
    "    elif(df['status']=='active'):\n",
    "        return '3'"
   ]
  },
  {
   "cell_type": "code",
   "execution_count": 199,
   "metadata": {},
   "outputs": [],
   "source": [
    "# Aplicando a função e criando a coluna target:\n",
    "customers_case['target'] = customers_case.apply(client_target, axis=1)\n",
    "customers_case['target'] = customers_case['target'].astype(int)"
   ]
  },
  {
   "cell_type": "code",
   "execution_count": 200,
   "metadata": {},
   "outputs": [
    {
     "data": {
      "text/html": [
       "<div>\n",
       "<style scoped>\n",
       "    .dataframe tbody tr th:only-of-type {\n",
       "        vertical-align: middle;\n",
       "    }\n",
       "\n",
       "    .dataframe tbody tr th {\n",
       "        vertical-align: top;\n",
       "    }\n",
       "\n",
       "    .dataframe thead th {\n",
       "        text-align: right;\n",
       "    }\n",
       "</style>\n",
       "<table border=\"1\" class=\"dataframe\">\n",
       "  <thead>\n",
       "    <tr style=\"text-align: right;\">\n",
       "      <th></th>\n",
       "      <th>customer_id</th>\n",
       "      <th>gender</th>\n",
       "      <th>status</th>\n",
       "      <th>statusUpdatedAt</th>\n",
       "      <th>statusPrevious</th>\n",
       "      <th>age</th>\n",
       "      <th>areaCode</th>\n",
       "      <th>state</th>\n",
       "      <th>recurrence</th>\n",
       "      <th>activation_date</th>\n",
       "      <th>end_portability_date</th>\n",
       "      <th>current_package</th>\n",
       "      <th>tenure</th>\n",
       "      <th>target</th>\n",
       "      <th>time_canceled</th>\n",
       "    </tr>\n",
       "  </thead>\n",
       "  <tbody>\n",
       "    <tr>\n",
       "      <th>0</th>\n",
       "      <td>00AJmuB7JTe5qJJuG99sLHthmVX2</td>\n",
       "      <td>masculino</td>\n",
       "      <td>paused</td>\n",
       "      <td>2021-02-14</td>\n",
       "      <td>paymentFailedSubscription</td>\n",
       "      <td>27</td>\n",
       "      <td>17</td>\n",
       "      <td>SP</td>\n",
       "      <td>monthly</td>\n",
       "      <td>2020-12-12</td>\n",
       "      <td>2020-12-16</td>\n",
       "      <td>customPackage</td>\n",
       "      <td>3</td>\n",
       "      <td>2</td>\n",
       "      <td>2</td>\n",
       "    </tr>\n",
       "    <tr>\n",
       "      <th>1</th>\n",
       "      <td>011nhqQ4gyMCNfwLdjjXaRPo5PF3</td>\n",
       "      <td>masculino</td>\n",
       "      <td>active</td>\n",
       "      <td>2021-03-03</td>\n",
       "      <td>activationComplete</td>\n",
       "      <td>32</td>\n",
       "      <td>64</td>\n",
       "      <td>GO</td>\n",
       "      <td>monthly</td>\n",
       "      <td>2021-03-03</td>\n",
       "      <td>2021-03-06</td>\n",
       "      <td>customPackage</td>\n",
       "      <td>0</td>\n",
       "      <td>3</td>\n",
       "      <td>0</td>\n",
       "    </tr>\n",
       "    <tr>\n",
       "      <th>2</th>\n",
       "      <td>01zSzL2oaLYLVlsHeHFyiVyyvf82</td>\n",
       "      <td>masculino</td>\n",
       "      <td>canceled</td>\n",
       "      <td>2021-02-21</td>\n",
       "      <td>cancelRequested</td>\n",
       "      <td>54</td>\n",
       "      <td>11</td>\n",
       "      <td>SP</td>\n",
       "      <td>weekly</td>\n",
       "      <td>2020-10-23</td>\n",
       "      <td>NaT</td>\n",
       "      <td>customPackage</td>\n",
       "      <td>4</td>\n",
       "      <td>1</td>\n",
       "      <td>3</td>\n",
       "    </tr>\n",
       "    <tr>\n",
       "      <th>3</th>\n",
       "      <td>027onaL5DKXWigqGc4ZOiBniTJC2</td>\n",
       "      <td>feminino</td>\n",
       "      <td>active</td>\n",
       "      <td>2021-03-03</td>\n",
       "      <td>processingSubscription</td>\n",
       "      <td>54</td>\n",
       "      <td>19</td>\n",
       "      <td>SP</td>\n",
       "      <td>weekly</td>\n",
       "      <td>2020-09-09</td>\n",
       "      <td>2020-09-15</td>\n",
       "      <td>customPackage</td>\n",
       "      <td>6</td>\n",
       "      <td>3</td>\n",
       "      <td>5</td>\n",
       "    </tr>\n",
       "    <tr>\n",
       "      <th>4</th>\n",
       "      <td>02DozqKFn1RmId9AKn0xPumtb8L2</td>\n",
       "      <td>feminino</td>\n",
       "      <td>active</td>\n",
       "      <td>2021-02-16</td>\n",
       "      <td>processingSubscription</td>\n",
       "      <td>30</td>\n",
       "      <td>11</td>\n",
       "      <td>SP</td>\n",
       "      <td>monthly</td>\n",
       "      <td>2020-09-16</td>\n",
       "      <td>2020-09-21</td>\n",
       "      <td>customPackage</td>\n",
       "      <td>6</td>\n",
       "      <td>3</td>\n",
       "      <td>5</td>\n",
       "    </tr>\n",
       "  </tbody>\n",
       "</table>\n",
       "</div>"
      ],
      "text/plain": [
       "                    customer_id     gender    status statusUpdatedAt  \\\n",
       "0  00AJmuB7JTe5qJJuG99sLHthmVX2  masculino    paused      2021-02-14   \n",
       "1  011nhqQ4gyMCNfwLdjjXaRPo5PF3  masculino    active      2021-03-03   \n",
       "2  01zSzL2oaLYLVlsHeHFyiVyyvf82  masculino  canceled      2021-02-21   \n",
       "3  027onaL5DKXWigqGc4ZOiBniTJC2   feminino    active      2021-03-03   \n",
       "4  02DozqKFn1RmId9AKn0xPumtb8L2   feminino    active      2021-02-16   \n",
       "\n",
       "              statusPrevious  age  areaCode state recurrence activation_date  \\\n",
       "0  paymentFailedSubscription   27        17    SP    monthly      2020-12-12   \n",
       "1         activationComplete   32        64    GO    monthly      2021-03-03   \n",
       "2            cancelRequested   54        11    SP     weekly      2020-10-23   \n",
       "3     processingSubscription   54        19    SP     weekly      2020-09-09   \n",
       "4     processingSubscription   30        11    SP    monthly      2020-09-16   \n",
       "\n",
       "  end_portability_date current_package  tenure  target  time_canceled  \n",
       "0           2020-12-16   customPackage       3       2              2  \n",
       "1           2021-03-06   customPackage       0       3              0  \n",
       "2                  NaT   customPackage       4       1              3  \n",
       "3           2020-09-15   customPackage       6       3              5  \n",
       "4           2020-09-21   customPackage       6       3              5  "
      ]
     },
     "execution_count": 200,
     "metadata": {},
     "output_type": "execute_result"
    }
   ],
   "source": [
    "customers_case.head()"
   ]
  },
  {
   "cell_type": "markdown",
   "metadata": {},
   "source": [
    "<b> Junção dos dois datasets: </b> A fim de analisar o comportamento dos clientes em relação aos pedidos realizados, unimos os dois datasets:"
   ]
  },
  {
   "cell_type": "code",
   "execution_count": 201,
   "metadata": {},
   "outputs": [],
   "source": [
    "df_total = pd.merge(customers_case,orders_case[['customer_id','produtos','pacotes','preços','totais_por_item','created_at']], on = 'customer_id')"
   ]
  },
  {
   "cell_type": "code",
   "execution_count": 202,
   "metadata": {},
   "outputs": [
    {
     "data": {
      "text/html": [
       "<div>\n",
       "<style scoped>\n",
       "    .dataframe tbody tr th:only-of-type {\n",
       "        vertical-align: middle;\n",
       "    }\n",
       "\n",
       "    .dataframe tbody tr th {\n",
       "        vertical-align: top;\n",
       "    }\n",
       "\n",
       "    .dataframe thead th {\n",
       "        text-align: right;\n",
       "    }\n",
       "</style>\n",
       "<table border=\"1\" class=\"dataframe\">\n",
       "  <thead>\n",
       "    <tr style=\"text-align: right;\">\n",
       "      <th></th>\n",
       "      <th>customer_id</th>\n",
       "      <th>gender</th>\n",
       "      <th>status</th>\n",
       "      <th>statusUpdatedAt</th>\n",
       "      <th>statusPrevious</th>\n",
       "      <th>age</th>\n",
       "      <th>areaCode</th>\n",
       "      <th>state</th>\n",
       "      <th>recurrence</th>\n",
       "      <th>activation_date</th>\n",
       "      <th>end_portability_date</th>\n",
       "      <th>current_package</th>\n",
       "      <th>tenure</th>\n",
       "      <th>target</th>\n",
       "      <th>time_canceled</th>\n",
       "      <th>produtos</th>\n",
       "      <th>pacotes</th>\n",
       "      <th>preços</th>\n",
       "      <th>totais_por_item</th>\n",
       "      <th>created_at</th>\n",
       "    </tr>\n",
       "  </thead>\n",
       "  <tbody>\n",
       "    <tr>\n",
       "      <th>0</th>\n",
       "      <td>00AJmuB7JTe5qJJuG99sLHthmVX2</td>\n",
       "      <td>masculino</td>\n",
       "      <td>paused</td>\n",
       "      <td>2021-02-14</td>\n",
       "      <td>paymentFailedSubscription</td>\n",
       "      <td>27</td>\n",
       "      <td>17</td>\n",
       "      <td>SP</td>\n",
       "      <td>monthly</td>\n",
       "      <td>2020-12-12</td>\n",
       "      <td>2020-12-16</td>\n",
       "      <td>customPackage</td>\n",
       "      <td>3</td>\n",
       "      <td>2</td>\n",
       "      <td>2</td>\n",
       "      <td>Renovação do APP</td>\n",
       "      <td>4</td>\n",
       "      <td>2.00</td>\n",
       "      <td>8.00</td>\n",
       "      <td>2021-11-01</td>\n",
       "    </tr>\n",
       "    <tr>\n",
       "      <th>1</th>\n",
       "      <td>00AJmuB7JTe5qJJuG99sLHthmVX2</td>\n",
       "      <td>masculino</td>\n",
       "      <td>paused</td>\n",
       "      <td>2021-02-14</td>\n",
       "      <td>paymentFailedSubscription</td>\n",
       "      <td>27</td>\n",
       "      <td>17</td>\n",
       "      <td>SP</td>\n",
       "      <td>monthly</td>\n",
       "      <td>2020-12-12</td>\n",
       "      <td>2020-12-16</td>\n",
       "      <td>customPackage</td>\n",
       "      <td>3</td>\n",
       "      <td>2</td>\n",
       "      <td>2</td>\n",
       "      <td>30 Minutos de Ligação Top Up</td>\n",
       "      <td>4</td>\n",
       "      <td>3.00</td>\n",
       "      <td>12.00</td>\n",
       "      <td>2020-12-28</td>\n",
       "    </tr>\n",
       "    <tr>\n",
       "      <th>2</th>\n",
       "      <td>00AJmuB7JTe5qJJuG99sLHthmVX2</td>\n",
       "      <td>masculino</td>\n",
       "      <td>paused</td>\n",
       "      <td>2021-02-14</td>\n",
       "      <td>paymentFailedSubscription</td>\n",
       "      <td>27</td>\n",
       "      <td>17</td>\n",
       "      <td>SP</td>\n",
       "      <td>monthly</td>\n",
       "      <td>2020-12-12</td>\n",
       "      <td>2020-12-16</td>\n",
       "      <td>customPackage</td>\n",
       "      <td>3</td>\n",
       "      <td>2</td>\n",
       "      <td>2</td>\n",
       "      <td>Renovação do APP</td>\n",
       "      <td>4</td>\n",
       "      <td>2.00</td>\n",
       "      <td>8.00</td>\n",
       "      <td>2020-12-12</td>\n",
       "    </tr>\n",
       "    <tr>\n",
       "      <th>3</th>\n",
       "      <td>00AJmuB7JTe5qJJuG99sLHthmVX2</td>\n",
       "      <td>masculino</td>\n",
       "      <td>paused</td>\n",
       "      <td>2021-02-14</td>\n",
       "      <td>paymentFailedSubscription</td>\n",
       "      <td>27</td>\n",
       "      <td>17</td>\n",
       "      <td>SP</td>\n",
       "      <td>monthly</td>\n",
       "      <td>2020-12-12</td>\n",
       "      <td>2020-12-16</td>\n",
       "      <td>customPackage</td>\n",
       "      <td>3</td>\n",
       "      <td>2</td>\n",
       "      <td>2</td>\n",
       "      <td>500MB de Dados Móveis</td>\n",
       "      <td>16</td>\n",
       "      <td>4.99</td>\n",
       "      <td>79.84</td>\n",
       "      <td>2020-12-12</td>\n",
       "    </tr>\n",
       "    <tr>\n",
       "      <th>4</th>\n",
       "      <td>00AJmuB7JTe5qJJuG99sLHthmVX2</td>\n",
       "      <td>masculino</td>\n",
       "      <td>paused</td>\n",
       "      <td>2021-02-14</td>\n",
       "      <td>paymentFailedSubscription</td>\n",
       "      <td>27</td>\n",
       "      <td>17</td>\n",
       "      <td>SP</td>\n",
       "      <td>monthly</td>\n",
       "      <td>2020-12-12</td>\n",
       "      <td>2020-12-16</td>\n",
       "      <td>customPackage</td>\n",
       "      <td>3</td>\n",
       "      <td>2</td>\n",
       "      <td>2</td>\n",
       "      <td>30 Minutos de Ligação</td>\n",
       "      <td>3</td>\n",
       "      <td>3.00</td>\n",
       "      <td>9.00</td>\n",
       "      <td>2020-12-12</td>\n",
       "    </tr>\n",
       "  </tbody>\n",
       "</table>\n",
       "</div>"
      ],
      "text/plain": [
       "                    customer_id     gender  status statusUpdatedAt  \\\n",
       "0  00AJmuB7JTe5qJJuG99sLHthmVX2  masculino  paused      2021-02-14   \n",
       "1  00AJmuB7JTe5qJJuG99sLHthmVX2  masculino  paused      2021-02-14   \n",
       "2  00AJmuB7JTe5qJJuG99sLHthmVX2  masculino  paused      2021-02-14   \n",
       "3  00AJmuB7JTe5qJJuG99sLHthmVX2  masculino  paused      2021-02-14   \n",
       "4  00AJmuB7JTe5qJJuG99sLHthmVX2  masculino  paused      2021-02-14   \n",
       "\n",
       "              statusPrevious  age  areaCode state recurrence activation_date  \\\n",
       "0  paymentFailedSubscription   27        17    SP    monthly      2020-12-12   \n",
       "1  paymentFailedSubscription   27        17    SP    monthly      2020-12-12   \n",
       "2  paymentFailedSubscription   27        17    SP    monthly      2020-12-12   \n",
       "3  paymentFailedSubscription   27        17    SP    monthly      2020-12-12   \n",
       "4  paymentFailedSubscription   27        17    SP    monthly      2020-12-12   \n",
       "\n",
       "  end_portability_date current_package  tenure  target  time_canceled  \\\n",
       "0           2020-12-16   customPackage       3       2              2   \n",
       "1           2020-12-16   customPackage       3       2              2   \n",
       "2           2020-12-16   customPackage       3       2              2   \n",
       "3           2020-12-16   customPackage       3       2              2   \n",
       "4           2020-12-16   customPackage       3       2              2   \n",
       "\n",
       "                       produtos  pacotes  preços  totais_por_item created_at  \n",
       "0              Renovação do APP        4    2.00             8.00 2021-11-01  \n",
       "1  30 Minutos de Ligação Top Up        4    3.00            12.00 2020-12-28  \n",
       "2              Renovação do APP        4    2.00             8.00 2020-12-12  \n",
       "3         500MB de Dados Móveis       16    4.99            79.84 2020-12-12  \n",
       "4         30 Minutos de Ligação        3    3.00             9.00 2020-12-12  "
      ]
     },
     "execution_count": 202,
     "metadata": {},
     "output_type": "execute_result"
    }
   ],
   "source": [
    "df_total.head()"
   ]
  },
  {
   "cell_type": "markdown",
   "metadata": {},
   "source": [
    "OBS: Para a a realização das análises para traçar o perfil dos clientes, serão utilizadas principalmentes as informações contidas no df_total. Importante levar em consideração que o número de clientes dos datasets customers_case e orders_id não é o mesmo, porém a diferência não é tamanha para alterar os resultados das análises:"
   ]
  },
  {
   "cell_type": "code",
   "execution_count": 389,
   "metadata": {},
   "outputs": [
    {
     "data": {
      "text/plain": [
       "5130"
      ]
     },
     "execution_count": 389,
     "metadata": {},
     "output_type": "execute_result"
    }
   ],
   "source": [
    "## Customer case com  5130 clientes\n",
    "customers_case['customer_id'].nunique()"
   ]
  },
  {
   "cell_type": "code",
   "execution_count": 390,
   "metadata": {},
   "outputs": [
    {
     "data": {
      "text/plain": [
       "4814"
      ]
     },
     "execution_count": 390,
     "metadata": {},
     "output_type": "execute_result"
    }
   ],
   "source": [
    "## Orders case com 4814 clientes\n",
    "orders_case['customer_id'].nunique()"
   ]
  },
  {
   "cell_type": "markdown",
   "metadata": {},
   "source": [
    "# 4. Análise Exploratória de Dados"
   ]
  },
  {
   "cell_type": "markdown",
   "metadata": {},
   "source": [
    "Nessa etapa será feita uma análise exploratória dos dados através de análises univariadas e multivariadas em ambos os datasets fornecidos com o obejivo inicial de ter um panorama geral dos dados e, posteriormente, responder à pergunta realizada \"Qual o perfil dos clientes da Fluke que param de usar a Fluke?\"\n",
    "Serão utilizados diversos gráficos para facilitar a visualização dos dados."
   ]
  },
  {
   "cell_type": "markdown",
   "metadata": {},
   "source": [
    "#### Gênero"
   ]
  },
  {
   "cell_type": "code",
   "execution_count": 29,
   "metadata": {},
   "outputs": [
    {
     "data": {
      "text/plain": [
       "masculino            3751\n",
       "feminino             1246\n",
       "prefiro não dizer      87\n",
       "não binário            38\n",
       "outro                   8\n",
       "Name: gender, dtype: int64"
      ]
     },
     "execution_count": 29,
     "metadata": {},
     "output_type": "execute_result"
    }
   ],
   "source": [
    "# Proporção de clientes de acordo com o gênero\n",
    "customer_gender = customers_case['gender'].value_counts()\n",
    "customer_gender"
   ]
  },
  {
   "cell_type": "code",
   "execution_count": 30,
   "metadata": {},
   "outputs": [
    {
     "data": {
      "text/plain": [
       "Text(0.5, 1.0, 'Clientes - Gênero')"
      ]
     },
     "execution_count": 30,
     "metadata": {},
     "output_type": "execute_result"
    },
    {
     "data": {
      "image/png": "[encoded data removed]",
      "text/plain": [
       "<Figure size 432x288 with 1 Axes>"
      ]
     },
     "metadata": {},
     "output_type": "display_data"
    }
   ],
   "source": [
    "y = customer_gender.values\n",
    "x = customers_case['gender'].value_counts().index\n",
    "\n",
    "colors = ['#15F407','#31572c','#90be6d', '#7ae582','#313715']\n",
    "porcent = 100.*y/y.sum()\n",
    "\n",
    "patches, texts = plt.pie(y, colors = colors, startangle=90, radius=1.2, wedgeprops = { 'linewidth' : 0.2, 'edgecolor' : 'white' })\n",
    "labels = ['{0} - {1:1.2f} %'.format(i,j) for i,j in zip(x, porcent)]\n",
    "\n",
    "plt.legend(patches, labels, loc='lower center', bbox_to_anchor=(.5,1),ncol=2,\n",
    "           fontsize=10)\n",
    "plt.title('Clientes - Gênero', pad=65)\n"
   ]
  },
  {
   "cell_type": "markdown",
   "metadata": {},
   "source": [
    "Do total de clientes do dataset customers_case a grande maioria, 73,12% é do gênero masculino. Cerca de 1/4 do total de clientes é do gênero feminino."
   ]
  },
  {
   "cell_type": "markdown",
   "metadata": {},
   "source": [
    "#### Idade"
   ]
  },
  {
   "cell_type": "code",
   "execution_count": 31,
   "metadata": {},
   "outputs": [
    {
     "data": {
      "text/plain": [
       "count    5130.000000\n",
       "mean       29.062963\n",
       "std        10.297397\n",
       "min         7.000000\n",
       "25%        22.000000\n",
       "50%        26.000000\n",
       "75%        32.000000\n",
       "max        88.000000\n",
       "Name: age, dtype: float64"
      ]
     },
     "execution_count": 31,
     "metadata": {},
     "output_type": "execute_result"
    }
   ],
   "source": [
    "customers_case['age'].describe()"
   ]
  },
  {
   "cell_type": "code",
   "execution_count": 32,
   "metadata": {},
   "outputs": [
    {
     "data": {
      "text/plain": [
       "<matplotlib.axes._subplots.AxesSubplot at 0x228d44eafd0>"
      ]
     },
     "execution_count": 32,
     "metadata": {},
     "output_type": "execute_result"
    },
    {
     "data": {
      "image/png": "[encoded data removed]",
      "text/plain": [
       "<Figure size 432x288 with 1 Axes>"
      ]
     },
     "metadata": {
      "needs_background": "light"
     },
     "output_type": "display_data"
    }
   ],
   "source": [
    "sns.boxplot(customers_case['age'],color ='#15F407')"
   ]
  },
  {
   "cell_type": "code",
   "execution_count": 33,
   "metadata": {},
   "outputs": [
    {
     "data": {
      "text/plain": [
       "11.815168648859427"
      ]
     },
     "execution_count": 33,
     "metadata": {},
     "output_type": "execute_result"
    }
   ],
   "source": [
    "customers_case.loc[customers_case['age']>=40]\n",
    "acima40 = (606/5129)*100\n",
    "acima40"
   ]
  },
  {
   "cell_type": "markdown",
   "metadata": {},
   "source": [
    "A maioria dos clientes da empresa são \"jovens adultos\", sendo a maioria com idades compreendidas entre 22 e 32 anos. Os clientes acima de 40 anos representam cerca de 11,8% do total de clientes."
   ]
  },
  {
   "cell_type": "code",
   "execution_count": 43,
   "metadata": {},
   "outputs": [
    {
     "data": {
      "image/png": "[encoded data removed]",
      "text/plain": [
       "<Figure size 432x288 with 1 Axes>"
      ]
     },
     "metadata": {
      "needs_background": "light"
     },
     "output_type": "display_data"
    }
   ],
   "source": [
    "plt.hist(customers_case['age'], bins = 15, color ='#15F407')\n",
    "plt.title('Clientes (total) - Distribuição de Idades', pad=15, fontsize=16)\n",
    "plt.xlabel('Idade', fontsize=10)\n",
    "plt.ylabel('Quantidade de clientes', fontsize=10)\n",
    "plt.grid(axis = 'y')\n",
    "plt.show()"
   ]
  },
  {
   "cell_type": "markdown",
   "metadata": {},
   "source": [
    "#### Estado e Área"
   ]
  },
  {
   "cell_type": "code",
   "execution_count": 35,
   "metadata": {},
   "outputs": [
    {
     "data": {
      "text/plain": [
       "RJ     103\n",
       "DF     114\n",
       "PR     141\n",
       "MG     184\n",
       "GO     349\n",
       "SP    4239\n",
       "Name: state, dtype: int64"
      ]
     },
     "execution_count": 35,
     "metadata": {},
     "output_type": "execute_result"
    }
   ],
   "source": [
    "customers_case['state'].value_counts().sort_values(ascending=True)"
   ]
  },
  {
   "cell_type": "code",
   "execution_count": 36,
   "metadata": {},
   "outputs": [
    {
     "data": {
      "text/plain": [
       "RJ     2.007797\n",
       "DF     2.222222\n",
       "PR     2.748538\n",
       "MG     3.586745\n",
       "GO     6.803119\n",
       "SP    82.631579\n",
       "Name: state, dtype: float64"
      ]
     },
     "execution_count": 36,
     "metadata": {},
     "output_type": "execute_result"
    }
   ],
   "source": [
    "customers_case['state'].value_counts(normalize=True).sort_values(ascending=True)*100"
   ]
  },
  {
   "cell_type": "code",
   "execution_count": 54,
   "metadata": {},
   "outputs": [
    {
     "data": {
      "image/png": "[encoded data removed]",
      "text/plain": [
       "<Figure size 432x288 with 1 Axes>"
      ]
     },
     "metadata": {
      "needs_background": "light"
     },
     "output_type": "display_data"
    }
   ],
   "source": [
    "client_state = customers_case['state'].value_counts().sort_values(ascending=True)\n",
    "\n",
    "client_state.plot.bar(color = '#15F407')\n",
    "plt.title('Clientes - Estados',fontsize=16)\n",
    "plt.ylabel('Clientes',fontsize=10)\n",
    "plt.xlabel('Estados',fontsize=10)\n",
    "plt.xticks(rotation = 0)\n",
    "plt.grid(axis = 'y')"
   ]
  },
  {
   "cell_type": "code",
   "execution_count": 56,
   "metadata": {},
   "outputs": [
    {
     "data": {
      "image/png": "[encoded data removed]",
      "text/plain": [
       "<Figure size 576x432 with 1 Axes>"
      ]
     },
     "metadata": {
      "needs_background": "light"
     },
     "output_type": "display_data"
    }
   ],
   "source": [
    "customers_case['areaCode'].value_counts().sort_index(ascending=True).plot.bar(color = '#15F407', figsize = (8,6))\n",
    "\n",
    "plt.title('Clientes - Código de Área',fontsize=16)\n",
    "plt.ylabel('Clientes',fontsize=10)\n",
    "plt.xlabel('Código de Área',fontsize=10)\n",
    "plt.xticks(rotation = 0)\n",
    "plt.grid(axis = 'y')"
   ]
  },
  {
   "cell_type": "markdown",
   "metadata": {},
   "source": [
    "A grande maioria dos clientes da Fluke, cerca de 82,6% são do Estado de São Paulo de cidades com DDD 11, 16 e 19. O segundo maior grupo de clientes, com cerca de 6,8% são do Estado de Goiás, que são os clientes com DDD 61, 62 e 64."
   ]
  },
  {
   "cell_type": "markdown",
   "metadata": {},
   "source": [
    "<b> Status </b>"
   ]
  },
  {
   "cell_type": "markdown",
   "metadata": {},
   "source": [
    "Do conjunto de dados fornecido, a maioria dos clientes, 60,68% seguem como clientes ativos. Os clientes que solicitaram o cancelamento ou que já cancelaram os serviços representam uma parcela significativa com 18,67% e 16,30% respectivamente, somando quase 35% do total. Já os clientes pausados são compostos por um 3,49% do total e os que tiveram alguma falha no pagamento 0,86%."
   ]
  },
  {
   "cell_type": "code",
   "execution_count": 129,
   "metadata": {},
   "outputs": [
    {
     "data": {
      "text/plain": [
       "Text(0.5, 1.0, 'Clientes - Status')"
      ]
     },
     "execution_count": 129,
     "metadata": {},
     "output_type": "execute_result"
    },
    {
     "data": {
      "image/png": "[encoded data removed]",
      "text/plain": [
       "<Figure size 432x288 with 1 Axes>"
      ]
     },
     "metadata": {},
     "output_type": "display_data"
    }
   ],
   "source": [
    "status = customers_case['status'].value_counts()\n",
    "y = status.values\n",
    "x = customers_case['status'].value_counts().sort_index(ascending = True).index\n",
    "\n",
    "colors = ['#15F407','#31572c','#313715','#90be6d', '#7ae582']\n",
    "porcent = 100.*y/y.sum()\n",
    "\n",
    "patches, texts = plt.pie(y, colors = colors, startangle=90, radius=1.2, wedgeprops = { 'linewidth' : 0.2, 'edgecolor' : 'white' })\n",
    "labels = ['{0} - {1:1.2f} %'.format(i,j) for i,j in zip(x, porcent)]\n",
    "\n",
    "#sort_legend = True\n",
    "#if sort_legend:\n",
    "#    patches, labels, dummy =  zip(*sorted(zip(patches, labels, y),\n",
    "#                                          key=lambda x: x[2],\n",
    "#                                          reverse=True))\n",
    "\n",
    "plt.legend(patches, labels, loc='lower center', bbox_to_anchor=(.5,1),ncol=2,\n",
    "           fontsize=10)\n",
    "plt.title('Clientes - Status', pad=65)"
   ]
  },
  {
   "cell_type": "markdown",
   "metadata": {},
   "source": [
    "## 4.1 Análise dos Targets"
   ]
  },
  {
   "cell_type": "markdown",
   "metadata": {},
   "source": [
    "Nesta etapa analisaremos o comportamento dos clientes de acordo com o Target definido com base em seus status atuais, porém com maior enfoque no Target 1. Recordando que o Target 1 refere-se aos clientes que já cancelaram ou solicitaram o cancelamento, Target 2 os clientes que possuem possibilidade de solicitar o cancelamento em breve ('paused' e 'paymentFailedSubscription') e Target 3 os clientes ativos. A análise será realizada utilizado dataset df_total que contém a junção dos dados de customers_case e orders_case."
   ]
  },
  {
   "cell_type": "code",
   "execution_count": 99,
   "metadata": {},
   "outputs": [
    {
     "data": {
      "text/plain": [
       "Text(0.5, 1.0, 'Clientes - Target')"
      ]
     },
     "execution_count": 99,
     "metadata": {},
     "output_type": "execute_result"
    },
    {
     "data": {
      "image/png": "[encoded data removed]",
      "text/plain": [
       "<Figure size 432x288 with 1 Axes>"
      ]
     },
     "metadata": {},
     "output_type": "display_data"
    }
   ],
   "source": [
    "targets = customers_case['target'].value_counts().sort_index(ascending=True)\n",
    "y = targets.values\n",
    "x = targets.index\n",
    "\n",
    "colors = ['#31572c','#90be6d','#15F407']\n",
    "porcent = 100.*y/y.sum()\n",
    "\n",
    "patches, texts = plt.pie(y, colors = colors, startangle=90, radius=1.2, wedgeprops = { 'linewidth' : 0.2, 'edgecolor' : 'white' })\n",
    "labels = ['{0} - {1:1.2f} %'.format(i,j) for i,j in zip(x, porcent)]\n",
    "\n",
    "plt.legend(patches, labels, loc='lower center', bbox_to_anchor=(.5,1),ncol=1,\n",
    "           fontsize=10)\n",
    "plt.title('Clientes - Target', pad=65)"
   ]
  },
  {
   "cell_type": "markdown",
   "metadata": {},
   "source": [
    "De acordo com a classificação adotada, os clientes que deixam os serviços da empresa ou já manifestaram o desejo de fazê-lo (Target 1) represetam 22,16%. Os clientes com possibilidade de deixar os serviços são formados por 17,15% do total.Como visto anteriormente, os clientes ativos formam a maioria com 60,68%."
   ]
  },
  {
   "cell_type": "markdown",
   "metadata": {},
   "source": [
    "# Clientes Target 1 - Cancelados"
   ]
  },
  {
   "cell_type": "code",
   "execution_count": 204,
   "metadata": {},
   "outputs": [
    {
     "data": {
      "text/html": [
       "<div>\n",
       "<style scoped>\n",
       "    .dataframe tbody tr th:only-of-type {\n",
       "        vertical-align: middle;\n",
       "    }\n",
       "\n",
       "    .dataframe tbody tr th {\n",
       "        vertical-align: top;\n",
       "    }\n",
       "\n",
       "    .dataframe thead th {\n",
       "        text-align: right;\n",
       "    }\n",
       "</style>\n",
       "<table border=\"1\" class=\"dataframe\">\n",
       "  <thead>\n",
       "    <tr style=\"text-align: right;\">\n",
       "      <th></th>\n",
       "      <th>customer_id</th>\n",
       "      <th>gender</th>\n",
       "      <th>status</th>\n",
       "      <th>statusUpdatedAt</th>\n",
       "      <th>statusPrevious</th>\n",
       "      <th>age</th>\n",
       "      <th>areaCode</th>\n",
       "      <th>state</th>\n",
       "      <th>recurrence</th>\n",
       "      <th>activation_date</th>\n",
       "      <th>end_portability_date</th>\n",
       "      <th>current_package</th>\n",
       "      <th>tenure</th>\n",
       "      <th>target</th>\n",
       "      <th>time_canceled</th>\n",
       "      <th>produtos</th>\n",
       "      <th>pacotes</th>\n",
       "      <th>preços</th>\n",
       "      <th>totais_por_item</th>\n",
       "      <th>created_at</th>\n",
       "    </tr>\n",
       "  </thead>\n",
       "  <tbody>\n",
       "    <tr>\n",
       "      <th>12</th>\n",
       "      <td>01zSzL2oaLYLVlsHeHFyiVyyvf82</td>\n",
       "      <td>masculino</td>\n",
       "      <td>canceled</td>\n",
       "      <td>2021-02-21</td>\n",
       "      <td>cancelRequested</td>\n",
       "      <td>54</td>\n",
       "      <td>11</td>\n",
       "      <td>SP</td>\n",
       "      <td>weekly</td>\n",
       "      <td>2020-10-23</td>\n",
       "      <td>NaT</td>\n",
       "      <td>customPackage</td>\n",
       "      <td>4</td>\n",
       "      <td>1</td>\n",
       "      <td>3</td>\n",
       "      <td>Renovação do APP</td>\n",
       "      <td>1</td>\n",
       "      <td>2.0</td>\n",
       "      <td>2.0</td>\n",
       "      <td>2020-10-30</td>\n",
       "    </tr>\n",
       "    <tr>\n",
       "      <th>13</th>\n",
       "      <td>01zSzL2oaLYLVlsHeHFyiVyyvf82</td>\n",
       "      <td>masculino</td>\n",
       "      <td>canceled</td>\n",
       "      <td>2021-02-21</td>\n",
       "      <td>cancelRequested</td>\n",
       "      <td>54</td>\n",
       "      <td>11</td>\n",
       "      <td>SP</td>\n",
       "      <td>weekly</td>\n",
       "      <td>2020-10-23</td>\n",
       "      <td>NaT</td>\n",
       "      <td>customPackage</td>\n",
       "      <td>4</td>\n",
       "      <td>1</td>\n",
       "      <td>3</td>\n",
       "      <td>30 Minutos de Ligação</td>\n",
       "      <td>1</td>\n",
       "      <td>3.0</td>\n",
       "      <td>3.0</td>\n",
       "      <td>2020-10-30</td>\n",
       "    </tr>\n",
       "    <tr>\n",
       "      <th>14</th>\n",
       "      <td>01zSzL2oaLYLVlsHeHFyiVyyvf82</td>\n",
       "      <td>masculino</td>\n",
       "      <td>canceled</td>\n",
       "      <td>2021-02-21</td>\n",
       "      <td>cancelRequested</td>\n",
       "      <td>54</td>\n",
       "      <td>11</td>\n",
       "      <td>SP</td>\n",
       "      <td>weekly</td>\n",
       "      <td>2020-10-23</td>\n",
       "      <td>NaT</td>\n",
       "      <td>customPackage</td>\n",
       "      <td>4</td>\n",
       "      <td>1</td>\n",
       "      <td>3</td>\n",
       "      <td>10 SMS</td>\n",
       "      <td>1</td>\n",
       "      <td>1.0</td>\n",
       "      <td>1.0</td>\n",
       "      <td>2020-10-30</td>\n",
       "    </tr>\n",
       "    <tr>\n",
       "      <th>15</th>\n",
       "      <td>01zSzL2oaLYLVlsHeHFyiVyyvf82</td>\n",
       "      <td>masculino</td>\n",
       "      <td>canceled</td>\n",
       "      <td>2021-02-21</td>\n",
       "      <td>cancelRequested</td>\n",
       "      <td>54</td>\n",
       "      <td>11</td>\n",
       "      <td>SP</td>\n",
       "      <td>weekly</td>\n",
       "      <td>2020-10-23</td>\n",
       "      <td>NaT</td>\n",
       "      <td>customPackage</td>\n",
       "      <td>4</td>\n",
       "      <td>1</td>\n",
       "      <td>3</td>\n",
       "      <td>Renovação do APP</td>\n",
       "      <td>1</td>\n",
       "      <td>2.0</td>\n",
       "      <td>2.0</td>\n",
       "      <td>2020-10-23</td>\n",
       "    </tr>\n",
       "    <tr>\n",
       "      <th>16</th>\n",
       "      <td>01zSzL2oaLYLVlsHeHFyiVyyvf82</td>\n",
       "      <td>masculino</td>\n",
       "      <td>canceled</td>\n",
       "      <td>2021-02-21</td>\n",
       "      <td>cancelRequested</td>\n",
       "      <td>54</td>\n",
       "      <td>11</td>\n",
       "      <td>SP</td>\n",
       "      <td>weekly</td>\n",
       "      <td>2020-10-23</td>\n",
       "      <td>NaT</td>\n",
       "      <td>customPackage</td>\n",
       "      <td>4</td>\n",
       "      <td>1</td>\n",
       "      <td>3</td>\n",
       "      <td>30 Minutos de Ligação</td>\n",
       "      <td>1</td>\n",
       "      <td>3.0</td>\n",
       "      <td>3.0</td>\n",
       "      <td>2020-10-23</td>\n",
       "    </tr>\n",
       "  </tbody>\n",
       "</table>\n",
       "</div>"
      ],
      "text/plain": [
       "                     customer_id     gender    status statusUpdatedAt  \\\n",
       "12  01zSzL2oaLYLVlsHeHFyiVyyvf82  masculino  canceled      2021-02-21   \n",
       "13  01zSzL2oaLYLVlsHeHFyiVyyvf82  masculino  canceled      2021-02-21   \n",
       "14  01zSzL2oaLYLVlsHeHFyiVyyvf82  masculino  canceled      2021-02-21   \n",
       "15  01zSzL2oaLYLVlsHeHFyiVyyvf82  masculino  canceled      2021-02-21   \n",
       "16  01zSzL2oaLYLVlsHeHFyiVyyvf82  masculino  canceled      2021-02-21   \n",
       "\n",
       "     statusPrevious  age  areaCode state recurrence activation_date  \\\n",
       "12  cancelRequested   54        11    SP     weekly      2020-10-23   \n",
       "13  cancelRequested   54        11    SP     weekly      2020-10-23   \n",
       "14  cancelRequested   54        11    SP     weekly      2020-10-23   \n",
       "15  cancelRequested   54        11    SP     weekly      2020-10-23   \n",
       "16  cancelRequested   54        11    SP     weekly      2020-10-23   \n",
       "\n",
       "   end_portability_date current_package  tenure  target  time_canceled  \\\n",
       "12                  NaT   customPackage       4       1              3   \n",
       "13                  NaT   customPackage       4       1              3   \n",
       "14                  NaT   customPackage       4       1              3   \n",
       "15                  NaT   customPackage       4       1              3   \n",
       "16                  NaT   customPackage       4       1              3   \n",
       "\n",
       "                 produtos  pacotes  preços  totais_por_item created_at  \n",
       "12       Renovação do APP        1     2.0              2.0 2020-10-30  \n",
       "13  30 Minutos de Ligação        1     3.0              3.0 2020-10-30  \n",
       "14                 10 SMS        1     1.0              1.0 2020-10-30  \n",
       "15       Renovação do APP        1     2.0              2.0 2020-10-23  \n",
       "16  30 Minutos de Ligação        1     3.0              3.0 2020-10-23  "
      ]
     },
     "execution_count": 204,
     "metadata": {},
     "output_type": "execute_result"
    }
   ],
   "source": [
    "target1 = df_total.loc[df_total['target']==1]\n",
    "target1.head()"
   ]
  },
  {
   "cell_type": "markdown",
   "metadata": {},
   "source": [
    "#### Gênero"
   ]
  },
  {
   "cell_type": "code",
   "execution_count": 124,
   "metadata": {
    "scrolled": true
   },
   "outputs": [
    {
     "data": {
      "text/plain": [
       "[masculino]            813\n",
       "[feminino]             173\n",
       "[prefiro não dizer]     13\n",
       "[não binário]            7\n",
       "[outro]                  2\n",
       "Name: gender, dtype: int64"
      ]
     },
     "execution_count": 124,
     "metadata": {},
     "output_type": "execute_result"
    }
   ],
   "source": [
    "gender_1 = target1['gender'].groupby(target1['customer_id']).unique().reset_index()\n",
    "gender_1['gender'].value_counts()"
   ]
  },
  {
   "cell_type": "code",
   "execution_count": 117,
   "metadata": {},
   "outputs": [
    {
     "data": {
      "image/png": "[encoded data removed]",
      "text/plain": [
       "<Figure size 540x288 with 1 Axes>"
      ]
     },
     "metadata": {
      "needs_background": "light"
     },
     "output_type": "display_data"
    }
   ],
   "source": [
    "ax = gender_1['gender'].value_counts().plot.bar(color = '#15F407', figsize = (7.5,4))\n",
    "ax.set_title('Target 1 - Gênero')\n",
    "plt.xticks(rotation=0)\n",
    "ax.grid(axis = 'y')"
   ]
  },
  {
   "cell_type": "code",
   "execution_count": 122,
   "metadata": {},
   "outputs": [
    {
     "data": {
      "text/plain": [
       "Text(0.5, 1.0, 'Target 1 - Gênero')"
      ]
     },
     "execution_count": 122,
     "metadata": {},
     "output_type": "execute_result"
    },
    {
     "data": {
      "image/png": "[encoded data removed]",
      "text/plain": [
       "<Figure size 432x288 with 1 Axes>"
      ]
     },
     "metadata": {},
     "output_type": "display_data"
    }
   ],
   "source": [
    "targets = gender_1['gender'].value_counts()\n",
    "y = targets.values\n",
    "x = targets.index\n",
    "\n",
    "colors = ['#15F407','#31572c','#90be6d', '#7ae582','#313715']\n",
    "\n",
    "porcent = 100.*y/y.sum()\n",
    "\n",
    "patches, texts = plt.pie(y, colors = colors, startangle=90, radius=1.2, wedgeprops = { 'linewidth' : 0.2, 'edgecolor' : 'white' })\n",
    "labels = ['{0} - {1:1.2f} %'.format(i,j) for i,j in zip(x, porcent)]\n",
    "\n",
    "plt.legend(patches, labels, loc='lower center', bbox_to_anchor=(.5,1),ncol=2,\n",
    "           fontsize=10)\n",
    "plt.title('Target 1 - Gênero', pad=65)"
   ]
  },
  {
   "cell_type": "markdown",
   "metadata": {},
   "source": [
    "A proporção do Target 1 é mais ou menos parecida com a proporção total de clientes anteriormente, com o gênero masculino ocupando a maior fatia na divisão, com 80,65%, seguido pelo gênero feminino com 17,16%."
   ]
  },
  {
   "cell_type": "markdown",
   "metadata": {},
   "source": [
    "#### Idade"
   ]
  },
  {
   "cell_type": "code",
   "execution_count": 179,
   "metadata": {},
   "outputs": [
    {
     "data": {
      "image/png": "[encoded data removed]",
      "text/plain": [
       "<Figure size 1080x648 with 1 Axes>"
      ]
     },
     "metadata": {
      "needs_background": "light"
     },
     "output_type": "display_data"
    }
   ],
   "source": [
    "age_1 = target1['age'].groupby(target1['customer_id']).unique().reset_index()\n",
    "ax = age_1['age'].value_counts().sort_index(ascending=True).plot.bar(color = '#15F407', figsize = (15,9))\n",
    "ax.set_title('Target 1 - Idade')\n",
    "ax.grid(axis = 'y')"
   ]
  },
  {
   "cell_type": "markdown",
   "metadata": {},
   "source": [
    "As princpais faixas de idade dos clientes que cancelaram a conta vão desde 19 até 30 anos. Um padrão parecido com o total de clientes."
   ]
  },
  {
   "cell_type": "markdown",
   "metadata": {},
   "source": [
    "#### Status Previous"
   ]
  },
  {
   "cell_type": "markdown",
   "metadata": {},
   "source": [
    "Analisamos agora, para o Target 1, o status anterior tanto dos clientes que já cancelaram os serviços, quanto dos clientes que possuem solicitação de cancelamento."
   ]
  },
  {
   "cell_type": "code",
   "execution_count": 285,
   "metadata": {},
   "outputs": [
    {
     "data": {
      "text/plain": [
       "[cancelRequested]              856\n",
       "[paused]                         6\n",
       "[paymentFailedSubscription]      2\n",
       "Name: statusPrevious, dtype: int64"
      ]
     },
     "execution_count": 285,
     "metadata": {},
     "output_type": "execute_result"
    }
   ],
   "source": [
    "#Clientes cancelados\n",
    "cancel_1 = target1.loc[target1['status']=='canceled']\n",
    "cancel = cancel_1['statusPrevious'].groupby(cancel_1['customer_id']).unique().reset_index()\n",
    "cancel['statusPrevious'].value_counts()"
   ]
  },
  {
   "cell_type": "code",
   "execution_count": 159,
   "metadata": {},
   "outputs": [
    {
     "data": {
      "text/plain": [
       "[cancelRequested]              99.074074\n",
       "[paused]                        0.694444\n",
       "[paymentFailedSubscription]     0.231481\n",
       "Name: statusPrevious, dtype: float64"
      ]
     },
     "execution_count": 159,
     "metadata": {},
     "output_type": "execute_result"
    }
   ],
   "source": [
    "cancel['statusPrevious'].value_counts(normalize=True)*100"
   ]
  },
  {
   "cell_type": "markdown",
   "metadata": {},
   "source": [
    "Praticamente a totalidade dos clientes que cancelaram os serviços possuiam como status anterior a solicitação de cancelamento. Pouquissímos haviam pausado a conta ou tiveram problemas no pagamento."
   ]
  },
  {
   "cell_type": "code",
   "execution_count": 149,
   "metadata": {},
   "outputs": [
    {
     "data": {
      "text/plain": [
       "[paused]                       93\n",
       "[active]                       45\n",
       "[canceled]                      5\n",
       "[paymentFailedSubscription]     1\n",
       "Name: statusPrevious, dtype: int64"
      ]
     },
     "execution_count": 149,
     "metadata": {},
     "output_type": "execute_result"
    }
   ],
   "source": [
    "#Clientes com solicitação de cancelamento\n",
    "cancelR_1 = target1.loc[target1['status']=='cancelRequested']\n",
    "cancelR = cancelR_1['statusPrevious'].groupby(cancelR_1['customer_id']).unique().reset_index()\n",
    "cancelR['statusPrevious'].value_counts()"
   ]
  },
  {
   "cell_type": "code",
   "execution_count": 158,
   "metadata": {},
   "outputs": [
    {
     "data": {
      "text/plain": [
       "[paused]                       64.583333\n",
       "[active]                       31.250000\n",
       "[canceled]                      3.472222\n",
       "[paymentFailedSubscription]     0.694444\n",
       "Name: statusPrevious, dtype: float64"
      ]
     },
     "execution_count": 158,
     "metadata": {},
     "output_type": "execute_result"
    }
   ],
   "source": [
    "cancelR['statusPrevious'].value_counts(normalize=True)*100"
   ]
  },
  {
   "cell_type": "markdown",
   "metadata": {},
   "source": [
    "Dos clientes que solicitaram o cancelamento mais da metade, cerca de 64,58% haviam pausado a conta anteriormente. Outros 31,25% estavam com a conta ativa."
   ]
  },
  {
   "cell_type": "markdown",
   "metadata": {},
   "source": [
    "#### Fidelidade - Depois de quanto tempo o cliente cancelou o serviço?"
   ]
  },
  {
   "cell_type": "code",
   "execution_count": 295,
   "metadata": {},
   "outputs": [
    {
     "data": {
      "text/plain": [
       "[0]      34\n",
       "[1]      75\n",
       "[2]      49\n",
       "[3]     216\n",
       "[4]     356\n",
       "[5]      70\n",
       "[6]      28\n",
       "[7]      10\n",
       "[8]      18\n",
       "[9]       7\n",
       "[10]      1\n",
       "Name: time_canceled, dtype: int64"
      ]
     },
     "execution_count": 295,
     "metadata": {},
     "output_type": "execute_result"
    }
   ],
   "source": [
    "#Clientes cancelados\n",
    "cancel_1 = target1.loc[target1['status']=='canceled']\n",
    "cancel = cancel_1['time_canceled'].groupby(cancel_1['customer_id']).unique().reset_index()\n",
    "cancel['time_canceled'].value_counts().sort_index(ascending=True)"
   ]
  },
  {
   "cell_type": "code",
   "execution_count": 297,
   "metadata": {},
   "outputs": [
    {
     "data": {
      "text/plain": [
       "[0]     0.039352\n",
       "[1]     0.086806\n",
       "[2]     0.056713\n",
       "[3]     0.250000\n",
       "[4]     0.412037\n",
       "[5]     0.081019\n",
       "[6]     0.032407\n",
       "[7]     0.011574\n",
       "[8]     0.020833\n",
       "[9]     0.008102\n",
       "[10]    0.001157\n",
       "Name: time_canceled, dtype: float64"
      ]
     },
     "execution_count": 297,
     "metadata": {},
     "output_type": "execute_result"
    }
   ],
   "source": [
    "cancel['time_canceled'].value_counts(normalize=True).sort_index(ascending=True)"
   ]
  },
  {
   "cell_type": "code",
   "execution_count": 307,
   "metadata": {},
   "outputs": [
    {
     "data": {
      "image/png": "[encoded data removed]",
      "text/plain": [
       "<Figure size 540x288 with 1 Axes>"
      ]
     },
     "metadata": {
      "needs_background": "light"
     },
     "output_type": "display_data"
    }
   ],
   "source": [
    "ax = cancel['time_canceled'].value_counts().sort_index(ascending=True).plot.bar(color = '#15F407', figsize = (7.5,4))\n",
    "ax.set_title('Canceled - Fidelidade')\n",
    "plt.xticks(rotation=0)\n",
    "plt.xlabel('Meses')\n",
    "ax.grid(axis = 'y')"
   ]
  },
  {
   "cell_type": "code",
   "execution_count": 294,
   "metadata": {},
   "outputs": [
    {
     "data": {
      "text/plain": [
       "[0]     26\n",
       "[1]     11\n",
       "[2]      5\n",
       "[3]     43\n",
       "[4]     27\n",
       "[5]      7\n",
       "[6]     17\n",
       "[7]      3\n",
       "[8]      2\n",
       "[10]     1\n",
       "[11]     2\n",
       "Name: time_canceled, dtype: int64"
      ]
     },
     "execution_count": 294,
     "metadata": {},
     "output_type": "execute_result"
    }
   ],
   "source": [
    "#Clientes Cancel Requested\n",
    "cancel_R = target1.loc[target1['status']=='cancelRequested']\n",
    "cancelR = cancel_R['time_canceled'].groupby(cancel_R['customer_id']).unique().reset_index()\n",
    "cancelR['time_canceled'].value_counts().sort_index(ascending=True)"
   ]
  },
  {
   "cell_type": "code",
   "execution_count": 296,
   "metadata": {},
   "outputs": [
    {
     "data": {
      "text/plain": [
       "[0]     0.180556\n",
       "[1]     0.076389\n",
       "[2]     0.034722\n",
       "[3]     0.298611\n",
       "[4]     0.187500\n",
       "[5]     0.048611\n",
       "[6]     0.118056\n",
       "[7]     0.020833\n",
       "[8]     0.013889\n",
       "[10]    0.006944\n",
       "[11]    0.013889\n",
       "Name: time_canceled, dtype: float64"
      ]
     },
     "execution_count": 296,
     "metadata": {},
     "output_type": "execute_result"
    }
   ],
   "source": [
    "cancelR['time_canceled'].value_counts(normalize=True).sort_index(ascending=True)"
   ]
  },
  {
   "cell_type": "code",
   "execution_count": 306,
   "metadata": {},
   "outputs": [
    {
     "data": {
      "image/png": "[encoded data removed]",
      "text/plain": [
       "<Figure size 540x288 with 1 Axes>"
      ]
     },
     "metadata": {
      "needs_background": "light"
     },
     "output_type": "display_data"
    }
   ],
   "source": [
    "ax = cancelR['time_canceled'].value_counts().sort_index(ascending=True).plot.bar(color = '#15F407', figsize = (7.5,4))\n",
    "ax.set_title('Cancel Requested - Fidelidade')\n",
    "plt.xticks(rotation=0)\n",
    "plt.xlabel('Meses')\n",
    "ax.grid(axis = 'y')"
   ]
  },
  {
   "cell_type": "markdown",
   "metadata": {},
   "source": [
    "Para os dois status que fazem parte dessa categoria, conforme analisando anteriormente, o tempo médio para cancelar o serviço foi após 3 ou 4 meses. Interessante observar que no caso dos clientes com status \"cancelRequested\", cerca de 18,05% solicitaram antes mesmo de completar 1 mês coma empresa."
   ]
  },
  {
   "cell_type": "markdown",
   "metadata": {},
   "source": [
    "#### Current Package"
   ]
  },
  {
   "cell_type": "code",
   "execution_count": 220,
   "metadata": {},
   "outputs": [
    {
     "data": {
      "text/plain": [
       "[customPackage]    999\n",
       "[madePackage-0]      6\n",
       "[madePackage-1]      3\n",
       "Name: current_package, dtype: int64"
      ]
     },
     "execution_count": 220,
     "metadata": {},
     "output_type": "execute_result"
    }
   ],
   "source": [
    "cancel_t1 = target1['current_package'].groupby(target1['customer_id']).unique().reset_index()\n",
    "cancel_t1['current_package'].value_counts()"
   ]
  },
  {
   "cell_type": "code",
   "execution_count": 286,
   "metadata": {},
   "outputs": [
    {
     "data": {
      "text/plain": [
       "[customPackage]    99.107143\n",
       "[madePackage-0]     0.595238\n",
       "[madePackage-1]     0.297619\n",
       "Name: current_package, dtype: float64"
      ]
     },
     "execution_count": 286,
     "metadata": {},
     "output_type": "execute_result"
    }
   ],
   "source": [
    "cancel_t1['current_package'].value_counts(normalize=True)*100"
   ]
  },
  {
   "cell_type": "code",
   "execution_count": 216,
   "metadata": {},
   "outputs": [
    {
     "data": {
      "text/plain": [
       "[customPackage]    863\n",
       "[madePackage-1]      1\n",
       "Name: current_package, dtype: int64"
      ]
     },
     "execution_count": 216,
     "metadata": {},
     "output_type": "execute_result"
    }
   ],
   "source": [
    "#Clientes cancelados\n",
    "cancel_1 = target1.loc[target1['status']=='canceled']\n",
    "cancel = cancel_1['current_package'].groupby(cancel_1['customer_id']).unique().reset_index()\n",
    "cancel['current_package'].value_counts()"
   ]
  },
  {
   "cell_type": "code",
   "execution_count": 217,
   "metadata": {},
   "outputs": [
    {
     "data": {
      "text/plain": [
       "[customPackage]    136\n",
       "[madePackage-0]      6\n",
       "[madePackage-1]      2\n",
       "Name: current_package, dtype: int64"
      ]
     },
     "execution_count": 217,
     "metadata": {},
     "output_type": "execute_result"
    }
   ],
   "source": [
    "#Clientes com solicitação de cancelamento\n",
    "cancelR_1 = target1.loc[target1['status']=='cancelRequested']\n",
    "cancelR = cancelR_1['current_package'].groupby(cancelR_1['customer_id']).unique().reset_index()\n",
    "cancelR['current_package'].value_counts()"
   ]
  },
  {
   "cell_type": "markdown",
   "metadata": {},
   "source": [
    "No momento do cancelamento ou da solicitação, quase todos os clientes contavam com o pacote customizado. Inexpressivos ou inexistentes resultados para os clientes com outros tipos de pacote."
   ]
  },
  {
   "cell_type": "markdown",
   "metadata": {},
   "source": [
    "#### Produtos"
   ]
  },
  {
   "cell_type": "code",
   "execution_count": 222,
   "metadata": {},
   "outputs": [
    {
     "data": {
      "text/plain": [
       "Renovação do APP                                                 3426\n",
       "500MB de Dados Móveis                                            1091\n",
       "30 Minutos de Ligação                                             608\n",
       "500MB de Dados Móveis Top Up                                      523\n",
       "30 Minutos de Ligação Top Up                                      247\n",
       "10 SMS                                                            211\n",
       "10 SMS Top Up                                                      72\n",
       "5GB de Dados Móveis | Minutos de Ligação Ilimitados | 10 SMS        3\n",
       "10GB de Dados Móveis | Minutos de Ligação Ilimitados | 10 SMS       3\n",
       "5GB de Dados Móveis | Minutos de Ligação Ilimitados | 50 SMS        2\n",
       "Name: produtos, dtype: int64"
      ]
     },
     "execution_count": 222,
     "metadata": {},
     "output_type": "execute_result"
    }
   ],
   "source": [
    "target1['produtos'].value_counts()"
   ]
  },
  {
   "cell_type": "markdown",
   "metadata": {},
   "source": [
    "Os produtos mais recorrentes para essa categoria foram a Renovação de APP e 500MB de Dados Móveis. Os produtos 30 Minutos de Ligação e 500MB de Dados Móveis Top Up também tiveram frequências expressivas. Interessante observar que esse grupo, durante o período em que usava os serviços da fluke, não se interessou por obter pacotes com mais benefícios, como os 3 últimos listados."
   ]
  },
  {
   "cell_type": "code",
   "execution_count": 223,
   "metadata": {},
   "outputs": [
    {
     "data": {
      "text/plain": [
       "Renovação do APP                                                 55.383123\n",
       "500MB de Dados Móveis                                            17.636599\n",
       "30 Minutos de Ligação                                             9.828645\n",
       "500MB de Dados Móveis Top Up                                      8.454575\n",
       "30 Minutos de Ligação Top Up                                      3.992887\n",
       "10 SMS                                                            3.410928\n",
       "10 SMS Top Up                                                     1.163919\n",
       "5GB de Dados Móveis | Minutos de Ligação Ilimitados | 10 SMS      0.048497\n",
       "10GB de Dados Móveis | Minutos de Ligação Ilimitados | 10 SMS     0.048497\n",
       "5GB de Dados Móveis | Minutos de Ligação Ilimitados | 50 SMS      0.032331\n",
       "Name: produtos, dtype: float64"
      ]
     },
     "execution_count": 223,
     "metadata": {},
     "output_type": "execute_result"
    }
   ],
   "source": [
    "target1['produtos'].value_counts(normalize=True)*100"
   ]
  },
  {
   "cell_type": "code",
   "execution_count": 319,
   "metadata": {},
   "outputs": [
    {
     "data": {
      "image/png": "[encoded data removed]",
      "text/plain": [
       "<Figure size 1152x648 with 1 Axes>"
      ]
     },
     "metadata": {
      "needs_background": "light"
     },
     "output_type": "display_data"
    }
   ],
   "source": [
    "produtos1 = target1['produtos'].value_counts()\n",
    "fig=plt.figure(figsize=(16,9))\n",
    "sns.barplot(y=produtos1.index,x=produtos1.values, palette = \"YlGn\")\n",
    "plt.title('Target 1 - Produtos',fontsize=20)\n",
    "plt.xlabel('Frequência',fontsize=17)\n",
    "plt.grid(axis=\"x\")"
   ]
  },
  {
   "cell_type": "markdown",
   "metadata": {},
   "source": [
    "O mesmo padrão é observado ao analisar as categorias canceled e cancelRequested individualmente."
   ]
  },
  {
   "cell_type": "code",
   "execution_count": 238,
   "metadata": {},
   "outputs": [
    {
     "data": {
      "text/plain": [
       "Renovação do APP                                                 55.158133\n",
       "500MB de Dados Móveis                                            17.940512\n",
       "30 Minutos de Ligação                                            10.128012\n",
       "500MB de Dados Móveis Top Up                                      8.226657\n",
       "30 Minutos de Ligação Top Up                                      3.990964\n",
       "10 SMS                                                            3.463855\n",
       "10 SMS Top Up                                                     1.073042\n",
       "10GB de Dados Móveis | Minutos de Ligação Ilimitados | 10 SMS     0.018825\n",
       "Name: produtos, dtype: float64"
      ]
     },
     "execution_count": 238,
     "metadata": {},
     "output_type": "execute_result"
    }
   ],
   "source": [
    "(target1.loc[target1['status']=='canceled']).produtos.value_counts(normalize=True)*100"
   ]
  },
  {
   "cell_type": "code",
   "execution_count": 237,
   "metadata": {},
   "outputs": [
    {
     "data": {
      "text/plain": [
       "Renovação do APP                                                 56.750572\n",
       "500MB de Dados Móveis                                            15.789474\n",
       "500MB de Dados Móveis Top Up                                      9.839817\n",
       "30 Minutos de Ligação                                             8.009153\n",
       "30 Minutos de Ligação Top Up                                      4.004577\n",
       "10 SMS                                                            3.089245\n",
       "10 SMS Top Up                                                     1.716247\n",
       "5GB de Dados Móveis | Minutos de Ligação Ilimitados | 10 SMS      0.343249\n",
       "10GB de Dados Móveis | Minutos de Ligação Ilimitados | 10 SMS     0.228833\n",
       "5GB de Dados Móveis | Minutos de Ligação Ilimitados | 50 SMS      0.228833\n",
       "Name: produtos, dtype: float64"
      ]
     },
     "execution_count": 237,
     "metadata": {},
     "output_type": "execute_result"
    }
   ],
   "source": [
    "(target1.loc[target1['status']=='cancelRequested']).produtos.value_counts(normalize=True)*100"
   ]
  },
  {
   "cell_type": "markdown",
   "metadata": {},
   "source": [
    "#### Recurrence - Recorrência de renovação do plano"
   ]
  },
  {
   "cell_type": "code",
   "execution_count": 272,
   "metadata": {},
   "outputs": [
    {
     "data": {
      "text/html": [
       "<div>\n",
       "<style scoped>\n",
       "    .dataframe tbody tr th:only-of-type {\n",
       "        vertical-align: middle;\n",
       "    }\n",
       "\n",
       "    .dataframe tbody tr th {\n",
       "        vertical-align: top;\n",
       "    }\n",
       "\n",
       "    .dataframe thead th {\n",
       "        text-align: right;\n",
       "    }\n",
       "</style>\n",
       "<table border=\"1\" class=\"dataframe\">\n",
       "  <thead>\n",
       "    <tr style=\"text-align: right;\">\n",
       "      <th></th>\n",
       "      <th>index</th>\n",
       "      <th>recurrence</th>\n",
       "    </tr>\n",
       "  </thead>\n",
       "  <tbody>\n",
       "    <tr>\n",
       "      <th>0</th>\n",
       "      <td>weekly</td>\n",
       "      <td>5409</td>\n",
       "    </tr>\n",
       "    <tr>\n",
       "      <th>1</th>\n",
       "      <td>monthly</td>\n",
       "      <td>777</td>\n",
       "    </tr>\n",
       "  </tbody>\n",
       "</table>\n",
       "</div>"
      ],
      "text/plain": [
       "     index  recurrence\n",
       "0   weekly        5409\n",
       "1  monthly         777"
      ]
     },
     "execution_count": 272,
     "metadata": {},
     "output_type": "execute_result"
    }
   ],
   "source": [
    "target1['recurrence'].value_counts().reset_index()"
   ]
  },
  {
   "cell_type": "code",
   "execution_count": 282,
   "metadata": {},
   "outputs": [
    {
     "data": {
      "text/plain": [
       "Text(0.5, 1.0, 'Target 1 - Recorrência de renovação')"
      ]
     },
     "execution_count": 282,
     "metadata": {},
     "output_type": "execute_result"
    },
    {
     "data": {
      "image/png": "[encoded data removed]",
      "text/plain": [
       "<Figure size 432x288 with 1 Axes>"
      ]
     },
     "metadata": {},
     "output_type": "display_data"
    }
   ],
   "source": [
    "data = target1['recurrence'].value_counts()\n",
    "y = data.values\n",
    "x = data.index\n",
    "\n",
    "colors = ['#15F407','#31572c']\n",
    "\n",
    "porcent = 100.*y/y.sum()\n",
    "\n",
    "patches, texts = plt.pie(y, colors = colors, startangle=90, radius=1.2, wedgeprops = { 'linewidth' : 0.2, 'edgecolor' : 'white' })\n",
    "labels = ['{0} - {1:1.2f} %'.format(i,j) for i,j in zip(x, porcent)]\n",
    "\n",
    "plt.legend(patches, labels, loc='lower center', bbox_to_anchor=(.5,1),ncol=2,\n",
    "           fontsize=10)\n",
    "plt.title('Target 1 - Recorrência de renovação', pad=35)"
   ]
  },
  {
   "cell_type": "markdown",
   "metadata": {},
   "source": [
    "A grande maioria dos clientes target1 realizou a renovação dos planos semanalmente, com cerca de 87,44%. Analisando separadamente para as duas categorias, o mesmo padrão foi observado."
   ]
  },
  {
   "cell_type": "code",
   "execution_count": 283,
   "metadata": {},
   "outputs": [
    {
     "data": {
      "text/plain": [
       "weekly     0.916416\n",
       "monthly    0.083584\n",
       "Name: recurrence, dtype: float64"
      ]
     },
     "execution_count": 283,
     "metadata": {},
     "output_type": "execute_result"
    }
   ],
   "source": [
    "#Clientes Canceled\n",
    "(target1.loc[target1['status']=='canceled']).recurrence.value_counts(normalize=True)"
   ]
  },
  {
   "cell_type": "code",
   "execution_count": 284,
   "metadata": {},
   "outputs": [
    {
     "data": {
      "text/plain": [
       "weekly     0.618993\n",
       "monthly    0.381007\n",
       "Name: recurrence, dtype: float64"
      ]
     },
     "execution_count": 284,
     "metadata": {},
     "output_type": "execute_result"
    }
   ],
   "source": [
    "#Clientes Cancel Requested\n",
    "(target1.loc[target1['status']=='cancelRequested']).recurrence.value_counts(normalize=True)"
   ]
  },
  {
   "cell_type": "markdown",
   "metadata": {},
   "source": [
    "#### Preços - Quanto gasta cada cliente?"
   ]
  },
  {
   "cell_type": "code",
   "execution_count": 239,
   "metadata": {},
   "outputs": [
    {
     "data": {
      "text/html": [
       "<div>\n",
       "<style scoped>\n",
       "    .dataframe tbody tr th:only-of-type {\n",
       "        vertical-align: middle;\n",
       "    }\n",
       "\n",
       "    .dataframe tbody tr th {\n",
       "        vertical-align: top;\n",
       "    }\n",
       "\n",
       "    .dataframe thead th {\n",
       "        text-align: right;\n",
       "    }\n",
       "</style>\n",
       "<table border=\"1\" class=\"dataframe\">\n",
       "  <thead>\n",
       "    <tr style=\"text-align: right;\">\n",
       "      <th></th>\n",
       "      <th>customer_id</th>\n",
       "      <th>preços</th>\n",
       "    </tr>\n",
       "  </thead>\n",
       "  <tbody>\n",
       "    <tr>\n",
       "      <th>0</th>\n",
       "      <td>01zSzL2oaLYLVlsHeHFyiVyyvf82</td>\n",
       "      <td>12.0</td>\n",
       "    </tr>\n",
       "    <tr>\n",
       "      <th>1</th>\n",
       "      <td>074mArNYDzPCPXfGYvbNQDTACg72</td>\n",
       "      <td>2.0</td>\n",
       "    </tr>\n",
       "    <tr>\n",
       "      <th>2</th>\n",
       "      <td>09NhDHRhCYZOKcOY2rqZtp0GYww2</td>\n",
       "      <td>12.0</td>\n",
       "    </tr>\n",
       "    <tr>\n",
       "      <th>3</th>\n",
       "      <td>0CLWEwH3TXVRTasXN74mSfX72JA3</td>\n",
       "      <td>60.0</td>\n",
       "    </tr>\n",
       "    <tr>\n",
       "      <th>4</th>\n",
       "      <td>0F0CqI3km0NnapAPDYvpwGDZkZ33</td>\n",
       "      <td>39.0</td>\n",
       "    </tr>\n",
       "  </tbody>\n",
       "</table>\n",
       "</div>"
      ],
      "text/plain": [
       "                    customer_id  preços\n",
       "0  01zSzL2oaLYLVlsHeHFyiVyyvf82    12.0\n",
       "1  074mArNYDzPCPXfGYvbNQDTACg72     2.0\n",
       "2  09NhDHRhCYZOKcOY2rqZtp0GYww2    12.0\n",
       "3  0CLWEwH3TXVRTasXN74mSfX72JA3    60.0\n",
       "4  0F0CqI3km0NnapAPDYvpwGDZkZ33    39.0"
      ]
     },
     "execution_count": 239,
     "metadata": {},
     "output_type": "execute_result"
    }
   ],
   "source": [
    "#Quanto gasta cada cliente\n",
    "target1_gastos = target1['preços'].groupby(target1['customer_id']).sum().reset_index()\n",
    "target1_gastos.head()"
   ]
  },
  {
   "cell_type": "code",
   "execution_count": 179,
   "metadata": {},
   "outputs": [
    {
     "data": {
      "text/html": [
       "<div>\n",
       "<style scoped>\n",
       "    .dataframe tbody tr th:only-of-type {\n",
       "        vertical-align: middle;\n",
       "    }\n",
       "\n",
       "    .dataframe tbody tr th {\n",
       "        vertical-align: top;\n",
       "    }\n",
       "\n",
       "    .dataframe thead th {\n",
       "        text-align: right;\n",
       "    }\n",
       "</style>\n",
       "<table border=\"1\" class=\"dataframe\">\n",
       "  <thead>\n",
       "    <tr style=\"text-align: right;\">\n",
       "      <th></th>\n",
       "      <th>preços</th>\n",
       "    </tr>\n",
       "  </thead>\n",
       "  <tbody>\n",
       "    <tr>\n",
       "      <th>count</th>\n",
       "      <td>1008.000000</td>\n",
       "    </tr>\n",
       "    <tr>\n",
       "      <th>mean</th>\n",
       "      <td>19.376706</td>\n",
       "    </tr>\n",
       "    <tr>\n",
       "      <th>std</th>\n",
       "      <td>25.727393</td>\n",
       "    </tr>\n",
       "    <tr>\n",
       "      <th>min</th>\n",
       "      <td>2.000000</td>\n",
       "    </tr>\n",
       "    <tr>\n",
       "      <th>25%</th>\n",
       "      <td>5.000000</td>\n",
       "    </tr>\n",
       "    <tr>\n",
       "      <th>50%</th>\n",
       "      <td>11.000000</td>\n",
       "    </tr>\n",
       "    <tr>\n",
       "      <th>75%</th>\n",
       "      <td>23.000000</td>\n",
       "    </tr>\n",
       "    <tr>\n",
       "      <th>max</th>\n",
       "      <td>288.000000</td>\n",
       "    </tr>\n",
       "  </tbody>\n",
       "</table>\n",
       "</div>"
      ],
      "text/plain": [
       "            preços\n",
       "count  1008.000000\n",
       "mean     19.376706\n",
       "std      25.727393\n",
       "min       2.000000\n",
       "25%       5.000000\n",
       "50%      11.000000\n",
       "75%      23.000000\n",
       "max     288.000000"
      ]
     },
     "execution_count": 179,
     "metadata": {},
     "output_type": "execute_result"
    }
   ],
   "source": [
    "target1_gastos.describe()"
   ]
  },
  {
   "cell_type": "code",
   "execution_count": 252,
   "metadata": {},
   "outputs": [
    {
     "data": {
      "text/plain": [
       "2.00      183\n",
       "8.00      107\n",
       "11.00      66\n",
       "12.00      60\n",
       "4.00       47\n",
       "         ... \n",
       "72.98       1\n",
       "48.99       1\n",
       "168.93      1\n",
       "72.91       1\n",
       "87.00       1\n",
       "Name: preços, Length: 150, dtype: int64"
      ]
     },
     "execution_count": 252,
     "metadata": {},
     "output_type": "execute_result"
    }
   ],
   "source": [
    "target1_gastos['preços'].value_counts().sort_values(ascending=False)"
   ]
  },
  {
   "cell_type": "code",
   "execution_count": 290,
   "metadata": {},
   "outputs": [
    {
     "data": {
      "image/png": "[encoded data removed]",
      "text/plain": [
       "<Figure size 432x288 with 1 Axes>"
      ]
     },
     "metadata": {
      "needs_background": "light"
     },
     "output_type": "display_data"
    }
   ],
   "source": [
    "ax = target1_gastos['preços'].value_counts().sort_values(ascending=False).plot.hist(bins = 20, color ='#15F407')\n",
    "ax.set_title('Target 1 - Preços')\n",
    "ax.set_ylabel('Quantidade de clientes')\n",
    "ax.set_xlabel('Média de gastos - R$')\n",
    "\n",
    "ax.grid(axis = 'y')"
   ]
  },
  {
   "cell_type": "markdown",
   "metadata": {},
   "source": [
    "A média de gastos dos clientes target1 é de aproximadamente 19,37 reais. Porém, uma quantidade expressiva de clientes gastou valores ainda mais baixos que a média, como apenas 2,00 ou 8,00 reais."
   ]
  },
  {
   "cell_type": "code",
   "execution_count": 251,
   "metadata": {},
   "outputs": [
    {
     "data": {
      "text/plain": [
       "<matplotlib.axes._subplots.AxesSubplot at 0x228dc39ca00>"
      ]
     },
     "execution_count": 251,
     "metadata": {},
     "output_type": "execute_result"
    },
    {
     "data": {
      "image/png": "[encoded data removed]",
      "text/plain": [
       "<Figure size 432x288 with 1 Axes>"
      ]
     },
     "metadata": {
      "needs_background": "light"
     },
     "output_type": "display_data"
    }
   ],
   "source": [
    "sns.boxplot(target1_gastos['preços'], color = '#15F407')"
   ]
  },
  {
   "cell_type": "code",
   "execution_count": 255,
   "metadata": {},
   "outputs": [
    {
     "data": {
      "text/html": [
       "<div>\n",
       "<style scoped>\n",
       "    .dataframe tbody tr th:only-of-type {\n",
       "        vertical-align: middle;\n",
       "    }\n",
       "\n",
       "    .dataframe tbody tr th {\n",
       "        vertical-align: top;\n",
       "    }\n",
       "\n",
       "    .dataframe thead th {\n",
       "        text-align: right;\n",
       "    }\n",
       "</style>\n",
       "<table border=\"1\" class=\"dataframe\">\n",
       "  <thead>\n",
       "    <tr style=\"text-align: right;\">\n",
       "      <th></th>\n",
       "      <th>customer_id</th>\n",
       "      <th>preços</th>\n",
       "    </tr>\n",
       "  </thead>\n",
       "  <tbody>\n",
       "    <tr>\n",
       "      <th>0</th>\n",
       "      <td>01zSzL2oaLYLVlsHeHFyiVyyvf82</td>\n",
       "      <td>12.0</td>\n",
       "    </tr>\n",
       "    <tr>\n",
       "      <th>1</th>\n",
       "      <td>09NhDHRhCYZOKcOY2rqZtp0GYww2</td>\n",
       "      <td>12.0</td>\n",
       "    </tr>\n",
       "    <tr>\n",
       "      <th>2</th>\n",
       "      <td>0F0CqI3km0NnapAPDYvpwGDZkZ33</td>\n",
       "      <td>39.0</td>\n",
       "    </tr>\n",
       "    <tr>\n",
       "      <th>3</th>\n",
       "      <td>0J7JKPqUjaYvpnHSJPN0AzPy5px1</td>\n",
       "      <td>11.0</td>\n",
       "    </tr>\n",
       "    <tr>\n",
       "      <th>4</th>\n",
       "      <td>0No2QUB3abepgreTj0gqggAplFx1</td>\n",
       "      <td>27.0</td>\n",
       "    </tr>\n",
       "  </tbody>\n",
       "</table>\n",
       "</div>"
      ],
      "text/plain": [
       "                    customer_id  preços\n",
       "0  01zSzL2oaLYLVlsHeHFyiVyyvf82    12.0\n",
       "1  09NhDHRhCYZOKcOY2rqZtp0GYww2    12.0\n",
       "2  0F0CqI3km0NnapAPDYvpwGDZkZ33    39.0\n",
       "3  0J7JKPqUjaYvpnHSJPN0AzPy5px1    11.0\n",
       "4  0No2QUB3abepgreTj0gqggAplFx1    27.0"
      ]
     },
     "execution_count": 255,
     "metadata": {},
     "output_type": "execute_result"
    }
   ],
   "source": [
    "#Canceled\n",
    "canceled = target1.loc[target1['status']=='canceled']\n",
    "canceled_gastos = canceled['preços'].groupby(canceled['customer_id']).sum().reset_index()\n",
    "canceled_gastos.head()"
   ]
  },
  {
   "cell_type": "code",
   "execution_count": 256,
   "metadata": {},
   "outputs": [
    {
     "data": {
      "text/html": [
       "<div>\n",
       "<style scoped>\n",
       "    .dataframe tbody tr th:only-of-type {\n",
       "        vertical-align: middle;\n",
       "    }\n",
       "\n",
       "    .dataframe tbody tr th {\n",
       "        vertical-align: top;\n",
       "    }\n",
       "\n",
       "    .dataframe thead th {\n",
       "        text-align: right;\n",
       "    }\n",
       "</style>\n",
       "<table border=\"1\" class=\"dataframe\">\n",
       "  <thead>\n",
       "    <tr style=\"text-align: right;\">\n",
       "      <th></th>\n",
       "      <th>preços</th>\n",
       "    </tr>\n",
       "  </thead>\n",
       "  <tbody>\n",
       "    <tr>\n",
       "      <th>count</th>\n",
       "      <td>864.000000</td>\n",
       "    </tr>\n",
       "    <tr>\n",
       "      <th>mean</th>\n",
       "      <td>19.182095</td>\n",
       "    </tr>\n",
       "    <tr>\n",
       "      <th>std</th>\n",
       "      <td>25.112061</td>\n",
       "    </tr>\n",
       "    <tr>\n",
       "      <th>min</th>\n",
       "      <td>2.000000</td>\n",
       "    </tr>\n",
       "    <tr>\n",
       "      <th>25%</th>\n",
       "      <td>6.000000</td>\n",
       "    </tr>\n",
       "    <tr>\n",
       "      <th>50%</th>\n",
       "      <td>11.000000</td>\n",
       "    </tr>\n",
       "    <tr>\n",
       "      <th>75%</th>\n",
       "      <td>22.000000</td>\n",
       "    </tr>\n",
       "    <tr>\n",
       "      <th>max</th>\n",
       "      <td>288.000000</td>\n",
       "    </tr>\n",
       "  </tbody>\n",
       "</table>\n",
       "</div>"
      ],
      "text/plain": [
       "           preços\n",
       "count  864.000000\n",
       "mean    19.182095\n",
       "std     25.112061\n",
       "min      2.000000\n",
       "25%      6.000000\n",
       "50%     11.000000\n",
       "75%     22.000000\n",
       "max    288.000000"
      ]
     },
     "execution_count": 256,
     "metadata": {},
     "output_type": "execute_result"
    }
   ],
   "source": [
    "canceled_gastos.describe()"
   ]
  },
  {
   "cell_type": "code",
   "execution_count": 257,
   "metadata": {},
   "outputs": [
    {
     "data": {
      "text/plain": [
       "2.00      148\n",
       "8.00      101\n",
       "11.00      55\n",
       "12.00      54\n",
       "4.00       44\n",
       "         ... \n",
       "7.99        1\n",
       "63.98       1\n",
       "13.98       1\n",
       "42.96       1\n",
       "113.00      1\n",
       "Name: preços, Length: 136, dtype: int64"
      ]
     },
     "execution_count": 257,
     "metadata": {},
     "output_type": "execute_result"
    }
   ],
   "source": [
    "canceled_gastos['preços'].value_counts().sort_values(ascending=False)"
   ]
  },
  {
   "cell_type": "code",
   "execution_count": 259,
   "metadata": {},
   "outputs": [
    {
     "data": {
      "text/html": [
       "<div>\n",
       "<style scoped>\n",
       "    .dataframe tbody tr th:only-of-type {\n",
       "        vertical-align: middle;\n",
       "    }\n",
       "\n",
       "    .dataframe tbody tr th {\n",
       "        vertical-align: top;\n",
       "    }\n",
       "\n",
       "    .dataframe thead th {\n",
       "        text-align: right;\n",
       "    }\n",
       "</style>\n",
       "<table border=\"1\" class=\"dataframe\">\n",
       "  <thead>\n",
       "    <tr style=\"text-align: right;\">\n",
       "      <th></th>\n",
       "      <th>customer_id</th>\n",
       "      <th>preços</th>\n",
       "    </tr>\n",
       "  </thead>\n",
       "  <tbody>\n",
       "    <tr>\n",
       "      <th>0</th>\n",
       "      <td>074mArNYDzPCPXfGYvbNQDTACg72</td>\n",
       "      <td>2.0</td>\n",
       "    </tr>\n",
       "    <tr>\n",
       "      <th>1</th>\n",
       "      <td>0CLWEwH3TXVRTasXN74mSfX72JA3</td>\n",
       "      <td>60.0</td>\n",
       "    </tr>\n",
       "    <tr>\n",
       "      <th>2</th>\n",
       "      <td>1KnwL3K6aocyuIboPpvADT0Gkop1</td>\n",
       "      <td>12.0</td>\n",
       "    </tr>\n",
       "    <tr>\n",
       "      <th>3</th>\n",
       "      <td>1cXobIvb8Te9L2pZEzCxJdjpFkj2</td>\n",
       "      <td>18.0</td>\n",
       "    </tr>\n",
       "    <tr>\n",
       "      <th>4</th>\n",
       "      <td>1u6PgnzZ9vU0vZD8COlkrkUdRPs2</td>\n",
       "      <td>2.0</td>\n",
       "    </tr>\n",
       "  </tbody>\n",
       "</table>\n",
       "</div>"
      ],
      "text/plain": [
       "                    customer_id  preços\n",
       "0  074mArNYDzPCPXfGYvbNQDTACg72     2.0\n",
       "1  0CLWEwH3TXVRTasXN74mSfX72JA3    60.0\n",
       "2  1KnwL3K6aocyuIboPpvADT0Gkop1    12.0\n",
       "3  1cXobIvb8Te9L2pZEzCxJdjpFkj2    18.0\n",
       "4  1u6PgnzZ9vU0vZD8COlkrkUdRPs2     2.0"
      ]
     },
     "execution_count": 259,
     "metadata": {},
     "output_type": "execute_result"
    }
   ],
   "source": [
    "#Cancel Requested\n",
    "cancelRequested = target1.loc[target1['status']=='cancelRequested']\n",
    "cancelRequested_gastos = cancelRequested['preços'].groupby(cancelRequested['customer_id']).sum().reset_index()\n",
    "cancelRequested_gastos.head()"
   ]
  },
  {
   "cell_type": "code",
   "execution_count": 260,
   "metadata": {},
   "outputs": [
    {
     "data": {
      "text/plain": [
       "count    874.000000\n",
       "mean       3.384886\n",
       "std        4.174789\n",
       "min        1.000000\n",
       "25%        2.000000\n",
       "50%        2.000000\n",
       "75%        4.990000\n",
       "max       49.990000\n",
       "Name: preços, dtype: float64"
      ]
     },
     "execution_count": 260,
     "metadata": {},
     "output_type": "execute_result"
    }
   ],
   "source": [
    "cancelRequested['preços'].describe()"
   ]
  },
  {
   "cell_type": "code",
   "execution_count": 262,
   "metadata": {},
   "outputs": [
    {
     "data": {
      "text/plain": [
       "2.00     496\n",
       "6.00     170\n",
       "3.00     105\n",
       "4.99      54\n",
       "1.00      42\n",
       "49.99      4\n",
       "39.99      3\n",
       "Name: preços, dtype: int64"
      ]
     },
     "execution_count": 262,
     "metadata": {},
     "output_type": "execute_result"
    }
   ],
   "source": [
    "cancelRequested['preços'].value_counts().sort_values(ascending=False)"
   ]
  },
  {
   "cell_type": "markdown",
   "metadata": {},
   "source": [
    "Analisando separadamente, a média de gastos dos clientes com o atual status de \"cancelRequested\" foi de aproximadamente 3,38 reais, muito menor se comparada à dos clientes \"canceled\" de 19,18 reais."
   ]
  },
  {
   "cell_type": "markdown",
   "metadata": {},
   "source": [
    "#### Código de área e Estado"
   ]
  },
  {
   "cell_type": "code",
   "execution_count": 337,
   "metadata": {},
   "outputs": [
    {
     "data": {
      "text/plain": [
       "[11]    512\n",
       "[12]     48\n",
       "[13]     39\n",
       "[14]     45\n",
       "[15]     31\n",
       "[16]     67\n",
       "[17]     35\n",
       "[18]     40\n",
       "[19]    107\n",
       "[21]      2\n",
       "[24]      2\n",
       "[31]      5\n",
       "[32]      1\n",
       "[34]      2\n",
       "[41]      5\n",
       "[42]      1\n",
       "[43]      2\n",
       "[45]      1\n",
       "[61]      8\n",
       "[62]     51\n",
       "[64]      4\n",
       "Name: areaCode, dtype: int64"
      ]
     },
     "execution_count": 337,
     "metadata": {},
     "output_type": "execute_result"
    }
   ],
   "source": [
    "area1 = target1['areaCode'].groupby(target1['customer_id']).unique().reset_index()\n",
    "area1['areaCode'].value_counts().sort_index(ascending=True)"
   ]
  },
  {
   "cell_type": "code",
   "execution_count": 338,
   "metadata": {},
   "outputs": [
    {
     "data": {
      "text/plain": [
       "[11]    0.507937\n",
       "[12]    0.047619\n",
       "[13]    0.038690\n",
       "[14]    0.044643\n",
       "[15]    0.030754\n",
       "[16]    0.066468\n",
       "[17]    0.034722\n",
       "[18]    0.039683\n",
       "[19]    0.106151\n",
       "[21]    0.001984\n",
       "[24]    0.001984\n",
       "[31]    0.004960\n",
       "[32]    0.000992\n",
       "[34]    0.001984\n",
       "[41]    0.004960\n",
       "[42]    0.000992\n",
       "[43]    0.001984\n",
       "[45]    0.000992\n",
       "[61]    0.007937\n",
       "[62]    0.050595\n",
       "[64]    0.003968\n",
       "Name: areaCode, dtype: float64"
      ]
     },
     "execution_count": 338,
     "metadata": {},
     "output_type": "execute_result"
    }
   ],
   "source": [
    "area1['areaCode'].value_counts(normalize=True).sort_index(ascending=True)"
   ]
  },
  {
   "cell_type": "code",
   "execution_count": 339,
   "metadata": {},
   "outputs": [
    {
     "data": {
      "image/png": "[encoded data removed]",
      "text/plain": [
       "<Figure size 1080x432 with 1 Axes>"
      ]
     },
     "metadata": {
      "needs_background": "light"
     },
     "output_type": "display_data"
    }
   ],
   "source": [
    "ax = area1['areaCode'].value_counts().sort_index(ascending=True).plot.bar(color = '#15F407', figsize = (15,6))\n",
    "ax.set_title(\"Target 1 - Código de área\")\n",
    "plt.xticks(rotation=0)\n",
    "plt.xlabel('DDD')\n",
    "ax.grid(axis = 'y')"
   ]
  },
  {
   "cell_type": "code",
   "execution_count": 335,
   "metadata": {},
   "outputs": [
    {
     "data": {
      "text/plain": [
       "[SP]    924\n",
       "[GO]     56\n",
       "[PR]      9\n",
       "[MG]      8\n",
       "[DF]      7\n",
       "[RJ]      4\n",
       "Name: state, dtype: int64"
      ]
     },
     "execution_count": 335,
     "metadata": {},
     "output_type": "execute_result"
    }
   ],
   "source": [
    "area1 = target1['state'].groupby(target1['customer_id']).unique().reset_index()\n",
    "area1['state'].value_counts().sort_values(ascending=False)"
   ]
  },
  {
   "cell_type": "markdown",
   "metadata": {},
   "source": [
    "A maioria dos clientes target 1 são provenientes de localidades con DDD 11, seguidos de localidades com DDD 19. Ambos do Estado de São Paulo."
   ]
  },
  {
   "cell_type": "markdown",
   "metadata": {},
   "source": [
    "# Clientes Target 2"
   ]
  },
  {
   "cell_type": "markdown",
   "metadata": {},
   "source": [
    "Os dados a seguir referem-se aos targets 2 e 3 com a finalidade de comparar os valores com os do target 1. Não foram realizadas análises profundas dessas informações, uma vez que o objetivo principal foi definir o perfil do target 1. Porém, as informações estatísticas e gráficos aqui contidos são facilmente compreensíveis no âmbito da resolução deste desafio."
   ]
  },
  {
   "cell_type": "code",
   "execution_count": 340,
   "metadata": {},
   "outputs": [
    {
     "data": {
      "text/html": [
       "<div>\n",
       "<style scoped>\n",
       "    .dataframe tbody tr th:only-of-type {\n",
       "        vertical-align: middle;\n",
       "    }\n",
       "\n",
       "    .dataframe tbody tr th {\n",
       "        vertical-align: top;\n",
       "    }\n",
       "\n",
       "    .dataframe thead th {\n",
       "        text-align: right;\n",
       "    }\n",
       "</style>\n",
       "<table border=\"1\" class=\"dataframe\">\n",
       "  <thead>\n",
       "    <tr style=\"text-align: right;\">\n",
       "      <th></th>\n",
       "      <th>customer_id</th>\n",
       "      <th>gender</th>\n",
       "      <th>status</th>\n",
       "      <th>statusUpdatedAt</th>\n",
       "      <th>statusPrevious</th>\n",
       "      <th>age</th>\n",
       "      <th>areaCode</th>\n",
       "      <th>state</th>\n",
       "      <th>recurrence</th>\n",
       "      <th>activation_date</th>\n",
       "      <th>end_portability_date</th>\n",
       "      <th>current_package</th>\n",
       "      <th>tenure</th>\n",
       "      <th>target</th>\n",
       "      <th>time_canceled</th>\n",
       "      <th>produtos</th>\n",
       "      <th>pacotes</th>\n",
       "      <th>preços</th>\n",
       "      <th>totais_por_item</th>\n",
       "      <th>created_at</th>\n",
       "    </tr>\n",
       "  </thead>\n",
       "  <tbody>\n",
       "    <tr>\n",
       "      <th>0</th>\n",
       "      <td>00AJmuB7JTe5qJJuG99sLHthmVX2</td>\n",
       "      <td>masculino</td>\n",
       "      <td>paused</td>\n",
       "      <td>2021-02-14</td>\n",
       "      <td>paymentFailedSubscription</td>\n",
       "      <td>27</td>\n",
       "      <td>17</td>\n",
       "      <td>SP</td>\n",
       "      <td>monthly</td>\n",
       "      <td>2020-12-12</td>\n",
       "      <td>2020-12-16</td>\n",
       "      <td>customPackage</td>\n",
       "      <td>3</td>\n",
       "      <td>2</td>\n",
       "      <td>2</td>\n",
       "      <td>Renovação do APP</td>\n",
       "      <td>4</td>\n",
       "      <td>2.00</td>\n",
       "      <td>8.00</td>\n",
       "      <td>2021-11-01</td>\n",
       "    </tr>\n",
       "    <tr>\n",
       "      <th>1</th>\n",
       "      <td>00AJmuB7JTe5qJJuG99sLHthmVX2</td>\n",
       "      <td>masculino</td>\n",
       "      <td>paused</td>\n",
       "      <td>2021-02-14</td>\n",
       "      <td>paymentFailedSubscription</td>\n",
       "      <td>27</td>\n",
       "      <td>17</td>\n",
       "      <td>SP</td>\n",
       "      <td>monthly</td>\n",
       "      <td>2020-12-12</td>\n",
       "      <td>2020-12-16</td>\n",
       "      <td>customPackage</td>\n",
       "      <td>3</td>\n",
       "      <td>2</td>\n",
       "      <td>2</td>\n",
       "      <td>30 Minutos de Ligação Top Up</td>\n",
       "      <td>4</td>\n",
       "      <td>3.00</td>\n",
       "      <td>12.00</td>\n",
       "      <td>2020-12-28</td>\n",
       "    </tr>\n",
       "    <tr>\n",
       "      <th>2</th>\n",
       "      <td>00AJmuB7JTe5qJJuG99sLHthmVX2</td>\n",
       "      <td>masculino</td>\n",
       "      <td>paused</td>\n",
       "      <td>2021-02-14</td>\n",
       "      <td>paymentFailedSubscription</td>\n",
       "      <td>27</td>\n",
       "      <td>17</td>\n",
       "      <td>SP</td>\n",
       "      <td>monthly</td>\n",
       "      <td>2020-12-12</td>\n",
       "      <td>2020-12-16</td>\n",
       "      <td>customPackage</td>\n",
       "      <td>3</td>\n",
       "      <td>2</td>\n",
       "      <td>2</td>\n",
       "      <td>Renovação do APP</td>\n",
       "      <td>4</td>\n",
       "      <td>2.00</td>\n",
       "      <td>8.00</td>\n",
       "      <td>2020-12-12</td>\n",
       "    </tr>\n",
       "    <tr>\n",
       "      <th>3</th>\n",
       "      <td>00AJmuB7JTe5qJJuG99sLHthmVX2</td>\n",
       "      <td>masculino</td>\n",
       "      <td>paused</td>\n",
       "      <td>2021-02-14</td>\n",
       "      <td>paymentFailedSubscription</td>\n",
       "      <td>27</td>\n",
       "      <td>17</td>\n",
       "      <td>SP</td>\n",
       "      <td>monthly</td>\n",
       "      <td>2020-12-12</td>\n",
       "      <td>2020-12-16</td>\n",
       "      <td>customPackage</td>\n",
       "      <td>3</td>\n",
       "      <td>2</td>\n",
       "      <td>2</td>\n",
       "      <td>500MB de Dados Móveis</td>\n",
       "      <td>16</td>\n",
       "      <td>4.99</td>\n",
       "      <td>79.84</td>\n",
       "      <td>2020-12-12</td>\n",
       "    </tr>\n",
       "    <tr>\n",
       "      <th>4</th>\n",
       "      <td>00AJmuB7JTe5qJJuG99sLHthmVX2</td>\n",
       "      <td>masculino</td>\n",
       "      <td>paused</td>\n",
       "      <td>2021-02-14</td>\n",
       "      <td>paymentFailedSubscription</td>\n",
       "      <td>27</td>\n",
       "      <td>17</td>\n",
       "      <td>SP</td>\n",
       "      <td>monthly</td>\n",
       "      <td>2020-12-12</td>\n",
       "      <td>2020-12-16</td>\n",
       "      <td>customPackage</td>\n",
       "      <td>3</td>\n",
       "      <td>2</td>\n",
       "      <td>2</td>\n",
       "      <td>30 Minutos de Ligação</td>\n",
       "      <td>3</td>\n",
       "      <td>3.00</td>\n",
       "      <td>9.00</td>\n",
       "      <td>2020-12-12</td>\n",
       "    </tr>\n",
       "  </tbody>\n",
       "</table>\n",
       "</div>"
      ],
      "text/plain": [
       "                    customer_id     gender  status statusUpdatedAt  \\\n",
       "0  00AJmuB7JTe5qJJuG99sLHthmVX2  masculino  paused      2021-02-14   \n",
       "1  00AJmuB7JTe5qJJuG99sLHthmVX2  masculino  paused      2021-02-14   \n",
       "2  00AJmuB7JTe5qJJuG99sLHthmVX2  masculino  paused      2021-02-14   \n",
       "3  00AJmuB7JTe5qJJuG99sLHthmVX2  masculino  paused      2021-02-14   \n",
       "4  00AJmuB7JTe5qJJuG99sLHthmVX2  masculino  paused      2021-02-14   \n",
       "\n",
       "              statusPrevious  age  areaCode state recurrence activation_date  \\\n",
       "0  paymentFailedSubscription   27        17    SP    monthly      2020-12-12   \n",
       "1  paymentFailedSubscription   27        17    SP    monthly      2020-12-12   \n",
       "2  paymentFailedSubscription   27        17    SP    monthly      2020-12-12   \n",
       "3  paymentFailedSubscription   27        17    SP    monthly      2020-12-12   \n",
       "4  paymentFailedSubscription   27        17    SP    monthly      2020-12-12   \n",
       "\n",
       "  end_portability_date current_package  tenure  target  time_canceled  \\\n",
       "0           2020-12-16   customPackage       3       2              2   \n",
       "1           2020-12-16   customPackage       3       2              2   \n",
       "2           2020-12-16   customPackage       3       2              2   \n",
       "3           2020-12-16   customPackage       3       2              2   \n",
       "4           2020-12-16   customPackage       3       2              2   \n",
       "\n",
       "                       produtos  pacotes  preços  totais_por_item created_at  \n",
       "0              Renovação do APP        4    2.00             8.00 2021-11-01  \n",
       "1  30 Minutos de Ligação Top Up        4    3.00            12.00 2020-12-28  \n",
       "2              Renovação do APP        4    2.00             8.00 2020-12-12  \n",
       "3         500MB de Dados Móveis       16    4.99            79.84 2020-12-12  \n",
       "4         30 Minutos de Ligação        3    3.00             9.00 2020-12-12  "
      ]
     },
     "execution_count": 340,
     "metadata": {},
     "output_type": "execute_result"
    }
   ],
   "source": [
    "target2 = df_total.loc[df_total['target']==2]\n",
    "target2.head()"
   ]
  },
  {
   "cell_type": "code",
   "execution_count": 341,
   "metadata": {},
   "outputs": [
    {
     "data": {
      "text/plain": [
       "[masculino]            621\n",
       "[feminino]             178\n",
       "[não binário]            8\n",
       "[prefiro não dizer]      5\n",
       "[outro]                  1\n",
       "Name: gender, dtype: int64"
      ]
     },
     "execution_count": 341,
     "metadata": {},
     "output_type": "execute_result"
    }
   ],
   "source": [
    "#Gênero\n",
    "gender_2 = target2['gender'].groupby(target2['customer_id']).unique().reset_index()\n",
    "gender_2['gender'].value_counts()"
   ]
  },
  {
   "cell_type": "code",
   "execution_count": 342,
   "metadata": {},
   "outputs": [
    {
     "data": {
      "image/png": "[encoded data removed]",
      "text/plain": [
       "<Figure size 540x288 with 1 Axes>"
      ]
     },
     "metadata": {
      "needs_background": "light"
     },
     "output_type": "display_data"
    }
   ],
   "source": [
    "ax = gender_2['gender'].value_counts().plot.bar(color = '#15F407', figsize = (7.5,4))\n",
    "ax.set_title('Target 2 - Gênero')\n",
    "plt.xticks(rotation=0)\n",
    "ax.grid(axis = 'y')"
   ]
  },
  {
   "cell_type": "code",
   "execution_count": 343,
   "metadata": {},
   "outputs": [
    {
     "data": {
      "text/plain": [
       "Text(0.5, 1.0, 'Target 2 - Gênero')"
      ]
     },
     "execution_count": 343,
     "metadata": {},
     "output_type": "execute_result"
    },
    {
     "data": {
      "image/png": "[encoded data removed]",
      "text/plain": [
       "<Figure size 432x288 with 1 Axes>"
      ]
     },
     "metadata": {},
     "output_type": "display_data"
    }
   ],
   "source": [
    "targets = gender_2['gender'].value_counts()\n",
    "y = targets.values\n",
    "x = targets.index\n",
    "\n",
    "colors = ['#15F407','#31572c','#90be6d', '#7ae582','#313715']\n",
    "\n",
    "porcent = 100.*y/y.sum()\n",
    "\n",
    "patches, texts = plt.pie(y, colors = colors, startangle=90, radius=1.2, wedgeprops = { 'linewidth' : 0.2, 'edgecolor' : 'white' })\n",
    "labels = ['{0} - {1:1.2f} %'.format(i,j) for i,j in zip(x, porcent)]\n",
    "\n",
    "plt.legend(patches, labels, loc='lower center', bbox_to_anchor=(.5,1),ncol=2,\n",
    "           fontsize=10)\n",
    "plt.title('Target 2 - Gênero', pad=65)"
   ]
  },
  {
   "cell_type": "code",
   "execution_count": 344,
   "metadata": {},
   "outputs": [
    {
     "data": {
      "image/png": "[encoded data removed]",
      "text/plain": [
       "<Figure size 1080x648 with 1 Axes>"
      ]
     },
     "metadata": {
      "needs_background": "light"
     },
     "output_type": "display_data"
    }
   ],
   "source": [
    "#Idade\n",
    "age_2 = target2['age'].groupby(target2['customer_id']).unique().reset_index()\n",
    "ax = age_2['age'].value_counts().sort_index(ascending=True).plot.bar(color = '#15F407', figsize = (15,9))\n",
    "ax.set_title('Target 2 - Idade')\n",
    "ax.grid(axis = 'y')"
   ]
  },
  {
   "cell_type": "code",
   "execution_count": 346,
   "metadata": {},
   "outputs": [
    {
     "data": {
      "text/plain": [
       "[paymentFailedSubscription]    492\n",
       "[active]                       238\n",
       "[canceled]                      58\n",
       "[paused]                        24\n",
       "[cancelRequested]                1\n",
       "Name: statusPrevious, dtype: int64"
      ]
     },
     "execution_count": 346,
     "metadata": {},
     "output_type": "execute_result"
    }
   ],
   "source": [
    "#Status Previous\n",
    "status = target2['statusPrevious'].groupby(target2['customer_id']).unique().reset_index()\n",
    "status['statusPrevious'].value_counts()"
   ]
  },
  {
   "cell_type": "code",
   "execution_count": 350,
   "metadata": {},
   "outputs": [
    {
     "data": {
      "text/plain": [
       "[0]       4\n",
       "[1]      89\n",
       "[2]      90\n",
       "[3]     258\n",
       "[4]     167\n",
       "[5]      59\n",
       "[6]      54\n",
       "[7]      72\n",
       "[8]       7\n",
       "[9]       4\n",
       "[10]      2\n",
       "[11]      4\n",
       "[12]      3\n",
       "Name: tenure, dtype: int64"
      ]
     },
     "execution_count": 350,
     "metadata": {},
     "output_type": "execute_result"
    }
   ],
   "source": [
    "#Tenure\n",
    "tenure = target2['tenure'].groupby(target2['customer_id']).unique().reset_index()\n",
    "tenure['tenure'].value_counts().sort_index(ascending=True)"
   ]
  },
  {
   "cell_type": "code",
   "execution_count": 354,
   "metadata": {},
   "outputs": [
    {
     "data": {
      "image/png": "[encoded data removed]",
      "text/plain": [
       "<Figure size 432x288 with 1 Axes>"
      ]
     },
     "metadata": {
      "needs_background": "light"
     },
     "output_type": "display_data"
    }
   ],
   "source": [
    "ax = tenure['tenure'].value_counts().sort_index(ascending=True).plot.bar(color = '#15F407')\n",
    "ax.set_title('Target 2 - Fidelidade')\n",
    "plt.xticks(rotation=0)\n",
    "plt.xlabel('Meses')\n",
    "ax.grid(axis = 'y')"
   ]
  },
  {
   "cell_type": "code",
   "execution_count": 355,
   "metadata": {},
   "outputs": [
    {
     "data": {
      "text/plain": [
       "[customPackage]    795\n",
       "[madePackage-0]      9\n",
       "[madePackage-1]      5\n",
       "[madePackage-3]      3\n",
       "[madePackage-2]      1\n",
       "Name: current_package, dtype: int64"
      ]
     },
     "execution_count": 355,
     "metadata": {},
     "output_type": "execute_result"
    }
   ],
   "source": [
    "#Current Package\n",
    "packaget2= target2['current_package'].groupby(target2['customer_id']).unique().reset_index()\n",
    "packaget2['current_package'].value_counts()"
   ]
  },
  {
   "cell_type": "code",
   "execution_count": 356,
   "metadata": {},
   "outputs": [
    {
     "data": {
      "text/plain": [
       "Renovação do APP                                                 3921\n",
       "500MB de Dados Móveis                                            1151\n",
       "500MB de Dados Móveis Top Up                                      790\n",
       "30 Minutos de Ligação                                             750\n",
       "30 Minutos de Ligação Top Up                                      346\n",
       "10 SMS                                                            245\n",
       "10 SMS Top Up                                                     100\n",
       "5GB de Dados Móveis | Minutos de Ligação Ilimitados | 10 SMS       10\n",
       "10GB de Dados Móveis | Minutos de Ligação Ilimitados | 10 SMS       5\n",
       "5GB de Dados Móveis | Minutos de Ligação Ilimitados | 50 SMS        4\n",
       "10GB de Dados Móveis | Minutos de Ligação Ilimitados | 50 SMS       2\n",
       "30GB de Dados Móveis | Minutos de Ligação Ilimitados | 10 SMS       2\n",
       "30GB de Dados Móveis | Minutos de Ligação Ilimitados | 50 SMS       1\n",
       "20GB de Dados Móveis | Minutos de Ligação Ilimitados | 50 SMS       1\n",
       "Name: produtos, dtype: int64"
      ]
     },
     "execution_count": 356,
     "metadata": {},
     "output_type": "execute_result"
    }
   ],
   "source": [
    "#Produtos\n",
    "target2['produtos'].value_counts()"
   ]
  },
  {
   "cell_type": "code",
   "execution_count": 357,
   "metadata": {},
   "outputs": [
    {
     "data": {
      "image/png": "[encoded data removed]",
      "text/plain": [
       "<Figure size 1152x648 with 1 Axes>"
      ]
     },
     "metadata": {
      "needs_background": "light"
     },
     "output_type": "display_data"
    }
   ],
   "source": [
    "produtos2 = target2['produtos'].value_counts()\n",
    "fig=plt.figure(figsize=(16,9))\n",
    "sns.barplot(y=produtos2.index,x=produtos2.values, palette = \"YlGn\")\n",
    "plt.title('Target 2 - Produtos',fontsize=20)\n",
    "plt.xlabel('Frequência',fontsize=17)\n",
    "plt.grid(axis=\"x\")"
   ]
  },
  {
   "cell_type": "code",
   "execution_count": 358,
   "metadata": {},
   "outputs": [
    {
     "data": {
      "text/html": [
       "<div>\n",
       "<style scoped>\n",
       "    .dataframe tbody tr th:only-of-type {\n",
       "        vertical-align: middle;\n",
       "    }\n",
       "\n",
       "    .dataframe tbody tr th {\n",
       "        vertical-align: top;\n",
       "    }\n",
       "\n",
       "    .dataframe thead th {\n",
       "        text-align: right;\n",
       "    }\n",
       "</style>\n",
       "<table border=\"1\" class=\"dataframe\">\n",
       "  <thead>\n",
       "    <tr style=\"text-align: right;\">\n",
       "      <th></th>\n",
       "      <th>index</th>\n",
       "      <th>recurrence</th>\n",
       "    </tr>\n",
       "  </thead>\n",
       "  <tbody>\n",
       "    <tr>\n",
       "      <th>0</th>\n",
       "      <td>weekly</td>\n",
       "      <td>4900</td>\n",
       "    </tr>\n",
       "    <tr>\n",
       "      <th>1</th>\n",
       "      <td>monthly</td>\n",
       "      <td>2428</td>\n",
       "    </tr>\n",
       "  </tbody>\n",
       "</table>\n",
       "</div>"
      ],
      "text/plain": [
       "     index  recurrence\n",
       "0   weekly        4900\n",
       "1  monthly        2428"
      ]
     },
     "execution_count": 358,
     "metadata": {},
     "output_type": "execute_result"
    }
   ],
   "source": [
    "#recurrence\n",
    "target2['recurrence'].value_counts().reset_index()"
   ]
  },
  {
   "cell_type": "code",
   "execution_count": 359,
   "metadata": {},
   "outputs": [
    {
     "data": {
      "text/plain": [
       "Text(0.5, 1.0, 'Target 2 - Recorrência de renovação')"
      ]
     },
     "execution_count": 359,
     "metadata": {},
     "output_type": "execute_result"
    },
    {
     "data": {
      "image/png": "[encoded data removed]",
      "text/plain": [
       "<Figure size 432x288 with 1 Axes>"
      ]
     },
     "metadata": {},
     "output_type": "display_data"
    }
   ],
   "source": [
    "data = target2['recurrence'].value_counts()\n",
    "y = data.values\n",
    "x = data.index\n",
    "\n",
    "colors = ['#15F407','#31572c']\n",
    "\n",
    "porcent = 100.*y/y.sum()\n",
    "\n",
    "patches, texts = plt.pie(y, colors = colors, startangle=90, radius=1.2, wedgeprops = { 'linewidth' : 0.2, 'edgecolor' : 'white' })\n",
    "labels = ['{0} - {1:1.2f} %'.format(i,j) for i,j in zip(x, porcent)]\n",
    "\n",
    "plt.legend(patches, labels, loc='lower center', bbox_to_anchor=(.5,1),ncol=2,\n",
    "           fontsize=10)\n",
    "plt.title('Target 2 - Recorrência de renovação', pad=35)"
   ]
  },
  {
   "cell_type": "code",
   "execution_count": 360,
   "metadata": {},
   "outputs": [
    {
     "data": {
      "text/html": [
       "<div>\n",
       "<style scoped>\n",
       "    .dataframe tbody tr th:only-of-type {\n",
       "        vertical-align: middle;\n",
       "    }\n",
       "\n",
       "    .dataframe tbody tr th {\n",
       "        vertical-align: top;\n",
       "    }\n",
       "\n",
       "    .dataframe thead th {\n",
       "        text-align: right;\n",
       "    }\n",
       "</style>\n",
       "<table border=\"1\" class=\"dataframe\">\n",
       "  <thead>\n",
       "    <tr style=\"text-align: right;\">\n",
       "      <th></th>\n",
       "      <th>customer_id</th>\n",
       "      <th>preços</th>\n",
       "    </tr>\n",
       "  </thead>\n",
       "  <tbody>\n",
       "    <tr>\n",
       "      <th>0</th>\n",
       "      <td>00AJmuB7JTe5qJJuG99sLHthmVX2</td>\n",
       "      <td>15.99</td>\n",
       "    </tr>\n",
       "    <tr>\n",
       "      <th>1</th>\n",
       "      <td>02N1mXy2jWVv29wMwo3j3D9NRTM2</td>\n",
       "      <td>9.99</td>\n",
       "    </tr>\n",
       "    <tr>\n",
       "      <th>2</th>\n",
       "      <td>03bpVdZNj2fNooC4QW2pZ5KgHyx1</td>\n",
       "      <td>29.00</td>\n",
       "    </tr>\n",
       "    <tr>\n",
       "      <th>3</th>\n",
       "      <td>05Vyqxi1cgYtIbJL85B6iinxhn22</td>\n",
       "      <td>4.00</td>\n",
       "    </tr>\n",
       "    <tr>\n",
       "      <th>4</th>\n",
       "      <td>0847ee5ObXeObe2yainHYm43sDq2</td>\n",
       "      <td>28.97</td>\n",
       "    </tr>\n",
       "  </tbody>\n",
       "</table>\n",
       "</div>"
      ],
      "text/plain": [
       "                    customer_id  preços\n",
       "0  00AJmuB7JTe5qJJuG99sLHthmVX2   15.99\n",
       "1  02N1mXy2jWVv29wMwo3j3D9NRTM2    9.99\n",
       "2  03bpVdZNj2fNooC4QW2pZ5KgHyx1   29.00\n",
       "3  05Vyqxi1cgYtIbJL85B6iinxhn22    4.00\n",
       "4  0847ee5ObXeObe2yainHYm43sDq2   28.97"
      ]
     },
     "execution_count": 360,
     "metadata": {},
     "output_type": "execute_result"
    }
   ],
   "source": [
    "#Preços\n",
    "#Quanto gasta cada cliente\n",
    "target2_gastos = target2['preços'].groupby(target2['customer_id']).sum().reset_index()\n",
    "target2_gastos.head()"
   ]
  },
  {
   "cell_type": "code",
   "execution_count": 361,
   "metadata": {},
   "outputs": [
    {
     "data": {
      "text/html": [
       "<div>\n",
       "<style scoped>\n",
       "    .dataframe tbody tr th:only-of-type {\n",
       "        vertical-align: middle;\n",
       "    }\n",
       "\n",
       "    .dataframe tbody tr th {\n",
       "        vertical-align: top;\n",
       "    }\n",
       "\n",
       "    .dataframe thead th {\n",
       "        text-align: right;\n",
       "    }\n",
       "</style>\n",
       "<table border=\"1\" class=\"dataframe\">\n",
       "  <thead>\n",
       "    <tr style=\"text-align: right;\">\n",
       "      <th></th>\n",
       "      <th>preços</th>\n",
       "    </tr>\n",
       "  </thead>\n",
       "  <tbody>\n",
       "    <tr>\n",
       "      <th>count</th>\n",
       "      <td>813.000000</td>\n",
       "    </tr>\n",
       "    <tr>\n",
       "      <th>mean</th>\n",
       "      <td>28.838647</td>\n",
       "    </tr>\n",
       "    <tr>\n",
       "      <th>std</th>\n",
       "      <td>36.581838</td>\n",
       "    </tr>\n",
       "    <tr>\n",
       "      <th>min</th>\n",
       "      <td>2.000000</td>\n",
       "    </tr>\n",
       "    <tr>\n",
       "      <th>25%</th>\n",
       "      <td>6.990000</td>\n",
       "    </tr>\n",
       "    <tr>\n",
       "      <th>50%</th>\n",
       "      <td>15.000000</td>\n",
       "    </tr>\n",
       "    <tr>\n",
       "      <th>75%</th>\n",
       "      <td>33.990000</td>\n",
       "    </tr>\n",
       "    <tr>\n",
       "      <th>max</th>\n",
       "      <td>270.970000</td>\n",
       "    </tr>\n",
       "  </tbody>\n",
       "</table>\n",
       "</div>"
      ],
      "text/plain": [
       "           preços\n",
       "count  813.000000\n",
       "mean    28.838647\n",
       "std     36.581838\n",
       "min      2.000000\n",
       "25%      6.990000\n",
       "50%     15.000000\n",
       "75%     33.990000\n",
       "max    270.970000"
      ]
     },
     "execution_count": 361,
     "metadata": {},
     "output_type": "execute_result"
    }
   ],
   "source": [
    "target2_gastos.describe()"
   ]
  },
  {
   "cell_type": "code",
   "execution_count": 362,
   "metadata": {},
   "outputs": [
    {
     "data": {
      "text/plain": [
       "2.00      74\n",
       "6.99      45\n",
       "4.00      43\n",
       "9.99      36\n",
       "6.00      29\n",
       "          ..\n",
       "116.94     1\n",
       "135.99     1\n",
       "25.98      1\n",
       "117.95     1\n",
       "35.00      1\n",
       "Name: preços, Length: 267, dtype: int64"
      ]
     },
     "execution_count": 362,
     "metadata": {},
     "output_type": "execute_result"
    }
   ],
   "source": [
    "target2_gastos['preços'].value_counts().sort_values(ascending=False)"
   ]
  },
  {
   "cell_type": "code",
   "execution_count": 365,
   "metadata": {},
   "outputs": [
    {
     "data": {
      "image/png": "[encoded data removed]",
      "text/plain": [
       "<Figure size 432x288 with 1 Axes>"
      ]
     },
     "metadata": {
      "needs_background": "light"
     },
     "output_type": "display_data"
    }
   ],
   "source": [
    "ax = target2_gastos['preços'].value_counts().sort_values(ascending=False).plot.hist(bins = 20, color ='#15F407')\n",
    "ax.set_title('Target 2 - Preços')\n",
    "ax.set_ylabel('Quantidade de clientes')\n",
    "ax.set_xlabel('Média de gastos - R$')\n",
    "\n",
    "ax.grid(axis = 'y')"
   ]
  },
  {
   "cell_type": "code",
   "execution_count": 366,
   "metadata": {},
   "outputs": [
    {
     "data": {
      "text/plain": [
       "<matplotlib.axes._subplots.AxesSubplot at 0x228dc04f550>"
      ]
     },
     "execution_count": 366,
     "metadata": {},
     "output_type": "execute_result"
    },
    {
     "data": {
      "image/png": "[encoded data removed]",
      "text/plain": [
       "<Figure size 432x288 with 1 Axes>"
      ]
     },
     "metadata": {
      "needs_background": "light"
     },
     "output_type": "display_data"
    }
   ],
   "source": [
    "sns.boxplot(target2_gastos['preços'], color = '#15F407')"
   ]
  },
  {
   "cell_type": "code",
   "execution_count": 367,
   "metadata": {},
   "outputs": [
    {
     "data": {
      "text/plain": [
       "[11]    338\n",
       "[12]     41\n",
       "[13]     24\n",
       "[14]     27\n",
       "[15]     17\n",
       "[16]     49\n",
       "[17]     31\n",
       "[18]     23\n",
       "[19]     83\n",
       "[21]      8\n",
       "[22]      1\n",
       "[24]      3\n",
       "[31]     15\n",
       "[32]      2\n",
       "[33]      1\n",
       "[34]      3\n",
       "[41]      6\n",
       "[42]      1\n",
       "[43]      6\n",
       "[44]      2\n",
       "[61]     52\n",
       "[62]     71\n",
       "[64]      9\n",
       "Name: areaCode, dtype: int64"
      ]
     },
     "execution_count": 367,
     "metadata": {},
     "output_type": "execute_result"
    }
   ],
   "source": [
    "#Código de Área e Estado\n",
    "area2 = target2['areaCode'].groupby(target2['customer_id']).unique().reset_index()\n",
    "area2['areaCode'].value_counts().sort_index(ascending=True)"
   ]
  },
  {
   "cell_type": "code",
   "execution_count": 368,
   "metadata": {},
   "outputs": [
    {
     "data": {
      "image/png": "[encoded data removed]",
      "text/plain": [
       "<Figure size 1080x432 with 1 Axes>"
      ]
     },
     "metadata": {
      "needs_background": "light"
     },
     "output_type": "display_data"
    }
   ],
   "source": [
    "ax = area2['areaCode'].value_counts().sort_index(ascending=True).plot.bar(color = '#15F407', figsize = (15,6))\n",
    "ax.set_title(\"Target 2 - Código de área\")\n",
    "plt.xticks(rotation=0)\n",
    "plt.xlabel('DDD')\n",
    "ax.grid(axis = 'y')"
   ]
  },
  {
   "cell_type": "markdown",
   "metadata": {},
   "source": [
    "# Target 3"
   ]
  },
  {
   "cell_type": "code",
   "execution_count": 370,
   "metadata": {
    "scrolled": true
   },
   "outputs": [
    {
     "data": {
      "text/html": [
       "<div>\n",
       "<style scoped>\n",
       "    .dataframe tbody tr th:only-of-type {\n",
       "        vertical-align: middle;\n",
       "    }\n",
       "\n",
       "    .dataframe tbody tr th {\n",
       "        vertical-align: top;\n",
       "    }\n",
       "\n",
       "    .dataframe thead th {\n",
       "        text-align: right;\n",
       "    }\n",
       "</style>\n",
       "<table border=\"1\" class=\"dataframe\">\n",
       "  <thead>\n",
       "    <tr style=\"text-align: right;\">\n",
       "      <th></th>\n",
       "      <th>customer_id</th>\n",
       "      <th>gender</th>\n",
       "      <th>status</th>\n",
       "      <th>statusUpdatedAt</th>\n",
       "      <th>statusPrevious</th>\n",
       "      <th>age</th>\n",
       "      <th>areaCode</th>\n",
       "      <th>state</th>\n",
       "      <th>recurrence</th>\n",
       "      <th>activation_date</th>\n",
       "      <th>end_portability_date</th>\n",
       "      <th>current_package</th>\n",
       "      <th>tenure</th>\n",
       "      <th>target</th>\n",
       "      <th>time_canceled</th>\n",
       "      <th>produtos</th>\n",
       "      <th>pacotes</th>\n",
       "      <th>preços</th>\n",
       "      <th>totais_por_item</th>\n",
       "      <th>created_at</th>\n",
       "    </tr>\n",
       "  </thead>\n",
       "  <tbody>\n",
       "    <tr>\n",
       "      <th>6</th>\n",
       "      <td>011nhqQ4gyMCNfwLdjjXaRPo5PF3</td>\n",
       "      <td>masculino</td>\n",
       "      <td>active</td>\n",
       "      <td>2021-03-03</td>\n",
       "      <td>activationComplete</td>\n",
       "      <td>32</td>\n",
       "      <td>64</td>\n",
       "      <td>GO</td>\n",
       "      <td>monthly</td>\n",
       "      <td>2021-03-03</td>\n",
       "      <td>2021-03-06</td>\n",
       "      <td>customPackage</td>\n",
       "      <td>0</td>\n",
       "      <td>3</td>\n",
       "      <td>0</td>\n",
       "      <td>10GB de Dados Móveis | Minutos de Ligação Ilim...</td>\n",
       "      <td>1</td>\n",
       "      <td>49.99</td>\n",
       "      <td>49.99</td>\n",
       "      <td>2021-09-03</td>\n",
       "    </tr>\n",
       "    <tr>\n",
       "      <th>7</th>\n",
       "      <td>011nhqQ4gyMCNfwLdjjXaRPo5PF3</td>\n",
       "      <td>masculino</td>\n",
       "      <td>active</td>\n",
       "      <td>2021-03-03</td>\n",
       "      <td>activationComplete</td>\n",
       "      <td>32</td>\n",
       "      <td>64</td>\n",
       "      <td>GO</td>\n",
       "      <td>monthly</td>\n",
       "      <td>2021-03-03</td>\n",
       "      <td>2021-03-06</td>\n",
       "      <td>customPackage</td>\n",
       "      <td>0</td>\n",
       "      <td>3</td>\n",
       "      <td>0</td>\n",
       "      <td>500MB de Dados Móveis Top Up</td>\n",
       "      <td>2</td>\n",
       "      <td>4.99</td>\n",
       "      <td>9.98</td>\n",
       "      <td>2021-06-03</td>\n",
       "    </tr>\n",
       "    <tr>\n",
       "      <th>8</th>\n",
       "      <td>011nhqQ4gyMCNfwLdjjXaRPo5PF3</td>\n",
       "      <td>masculino</td>\n",
       "      <td>active</td>\n",
       "      <td>2021-03-03</td>\n",
       "      <td>activationComplete</td>\n",
       "      <td>32</td>\n",
       "      <td>64</td>\n",
       "      <td>GO</td>\n",
       "      <td>monthly</td>\n",
       "      <td>2021-03-03</td>\n",
       "      <td>2021-03-06</td>\n",
       "      <td>customPackage</td>\n",
       "      <td>0</td>\n",
       "      <td>3</td>\n",
       "      <td>0</td>\n",
       "      <td>30 Minutos de Ligação Top Up</td>\n",
       "      <td>1</td>\n",
       "      <td>3.00</td>\n",
       "      <td>3.00</td>\n",
       "      <td>2021-06-03</td>\n",
       "    </tr>\n",
       "    <tr>\n",
       "      <th>9</th>\n",
       "      <td>011nhqQ4gyMCNfwLdjjXaRPo5PF3</td>\n",
       "      <td>masculino</td>\n",
       "      <td>active</td>\n",
       "      <td>2021-03-03</td>\n",
       "      <td>activationComplete</td>\n",
       "      <td>32</td>\n",
       "      <td>64</td>\n",
       "      <td>GO</td>\n",
       "      <td>monthly</td>\n",
       "      <td>2021-03-03</td>\n",
       "      <td>2021-03-06</td>\n",
       "      <td>customPackage</td>\n",
       "      <td>0</td>\n",
       "      <td>3</td>\n",
       "      <td>0</td>\n",
       "      <td>500MB de Dados Móveis Top Up</td>\n",
       "      <td>1</td>\n",
       "      <td>4.99</td>\n",
       "      <td>4.99</td>\n",
       "      <td>2021-03-03</td>\n",
       "    </tr>\n",
       "    <tr>\n",
       "      <th>10</th>\n",
       "      <td>011nhqQ4gyMCNfwLdjjXaRPo5PF3</td>\n",
       "      <td>masculino</td>\n",
       "      <td>active</td>\n",
       "      <td>2021-03-03</td>\n",
       "      <td>activationComplete</td>\n",
       "      <td>32</td>\n",
       "      <td>64</td>\n",
       "      <td>GO</td>\n",
       "      <td>monthly</td>\n",
       "      <td>2021-03-03</td>\n",
       "      <td>2021-03-06</td>\n",
       "      <td>customPackage</td>\n",
       "      <td>0</td>\n",
       "      <td>3</td>\n",
       "      <td>0</td>\n",
       "      <td>Renovação do APP</td>\n",
       "      <td>4</td>\n",
       "      <td>2.00</td>\n",
       "      <td>8.00</td>\n",
       "      <td>2021-03-03</td>\n",
       "    </tr>\n",
       "  </tbody>\n",
       "</table>\n",
       "</div>"
      ],
      "text/plain": [
       "                     customer_id     gender  status statusUpdatedAt  \\\n",
       "6   011nhqQ4gyMCNfwLdjjXaRPo5PF3  masculino  active      2021-03-03   \n",
       "7   011nhqQ4gyMCNfwLdjjXaRPo5PF3  masculino  active      2021-03-03   \n",
       "8   011nhqQ4gyMCNfwLdjjXaRPo5PF3  masculino  active      2021-03-03   \n",
       "9   011nhqQ4gyMCNfwLdjjXaRPo5PF3  masculino  active      2021-03-03   \n",
       "10  011nhqQ4gyMCNfwLdjjXaRPo5PF3  masculino  active      2021-03-03   \n",
       "\n",
       "        statusPrevious  age  areaCode state recurrence activation_date  \\\n",
       "6   activationComplete   32        64    GO    monthly      2021-03-03   \n",
       "7   activationComplete   32        64    GO    monthly      2021-03-03   \n",
       "8   activationComplete   32        64    GO    monthly      2021-03-03   \n",
       "9   activationComplete   32        64    GO    monthly      2021-03-03   \n",
       "10  activationComplete   32        64    GO    monthly      2021-03-03   \n",
       "\n",
       "   end_portability_date current_package  tenure  target  time_canceled  \\\n",
       "6            2021-03-06   customPackage       0       3              0   \n",
       "7            2021-03-06   customPackage       0       3              0   \n",
       "8            2021-03-06   customPackage       0       3              0   \n",
       "9            2021-03-06   customPackage       0       3              0   \n",
       "10           2021-03-06   customPackage       0       3              0   \n",
       "\n",
       "                                             produtos  pacotes  preços  \\\n",
       "6   10GB de Dados Móveis | Minutos de Ligação Ilim...        1   49.99   \n",
       "7                        500MB de Dados Móveis Top Up        2    4.99   \n",
       "8                        30 Minutos de Ligação Top Up        1    3.00   \n",
       "9                        500MB de Dados Móveis Top Up        1    4.99   \n",
       "10                                   Renovação do APP        4    2.00   \n",
       "\n",
       "    totais_por_item created_at  \n",
       "6             49.99 2021-09-03  \n",
       "7              9.98 2021-06-03  \n",
       "8              3.00 2021-06-03  \n",
       "9              4.99 2021-03-03  \n",
       "10             8.00 2021-03-03  "
      ]
     },
     "execution_count": 370,
     "metadata": {},
     "output_type": "execute_result"
    }
   ],
   "source": [
    "target3 = df_total.loc[df_total['target']==3]\n",
    "target3.head()"
   ]
  },
  {
   "cell_type": "code",
   "execution_count": 371,
   "metadata": {},
   "outputs": [
    {
     "data": {
      "text/plain": [
       "[masculino]            2101\n",
       "[feminino]              836\n",
       "[prefiro não dizer]      35\n",
       "[não binário]            17\n",
       "[outro]                   4\n",
       "Name: gender, dtype: int64"
      ]
     },
     "execution_count": 371,
     "metadata": {},
     "output_type": "execute_result"
    }
   ],
   "source": [
    "#Gênero\n",
    "gender_3 = target3['gender'].groupby(target3['customer_id']).unique().reset_index()\n",
    "gender_3['gender'].value_counts()"
   ]
  },
  {
   "cell_type": "code",
   "execution_count": 372,
   "metadata": {},
   "outputs": [
    {
     "data": {
      "image/png": "[encoded data removed]",
      "text/plain": [
       "<Figure size 540x288 with 1 Axes>"
      ]
     },
     "metadata": {
      "needs_background": "light"
     },
     "output_type": "display_data"
    }
   ],
   "source": [
    "ax = gender_3['gender'].value_counts().plot.bar(color = '#15F407', figsize = (7.5,4))\n",
    "ax.set_title('Target 3 - Gênero')\n",
    "plt.xticks(rotation=0)\n",
    "ax.grid(axis = 'y')"
   ]
  },
  {
   "cell_type": "code",
   "execution_count": 373,
   "metadata": {},
   "outputs": [
    {
     "data": {
      "text/plain": [
       "Text(0.5, 1.0, 'Target 3 - Gênero')"
      ]
     },
     "execution_count": 373,
     "metadata": {},
     "output_type": "execute_result"
    },
    {
     "data": {
      "image/png": "[encoded data removed]",
      "text/plain": [
       "<Figure size 432x288 with 1 Axes>"
      ]
     },
     "metadata": {},
     "output_type": "display_data"
    }
   ],
   "source": [
    "targets = gender_3['gender'].value_counts()\n",
    "y = targets.values\n",
    "x = targets.index\n",
    "\n",
    "colors = ['#15F407','#31572c','#90be6d', '#7ae582','#313715']\n",
    "\n",
    "porcent = 100.*y/y.sum()\n",
    "\n",
    "patches, texts = plt.pie(y, colors = colors, startangle=90, radius=1.2, wedgeprops = { 'linewidth' : 0.2, 'edgecolor' : 'white' })\n",
    "labels = ['{0} - {1:1.2f} %'.format(i,j) for i,j in zip(x, porcent)]\n",
    "\n",
    "plt.legend(patches, labels, loc='lower center', bbox_to_anchor=(.5,1),ncol=2,\n",
    "           fontsize=10)\n",
    "plt.title('Target 3 - Gênero', pad=65)"
   ]
  },
  {
   "cell_type": "code",
   "execution_count": 374,
   "metadata": {},
   "outputs": [
    {
     "data": {
      "image/png": "[encoded data removed]",
      "text/plain": [
       "<Figure size 1080x648 with 1 Axes>"
      ]
     },
     "metadata": {
      "needs_background": "light"
     },
     "output_type": "display_data"
    }
   ],
   "source": [
    "#Idade\n",
    "age_3 = target3['age'].groupby(target3['customer_id']).unique().reset_index()\n",
    "ax = age_3['age'].value_counts().sort_index(ascending=True).plot.bar(color = '#15F407', figsize = (15,9))\n",
    "ax.set_title('Target 3 - Idade')\n",
    "ax.grid(axis = 'y')"
   ]
  },
  {
   "cell_type": "code",
   "execution_count": 375,
   "metadata": {},
   "outputs": [
    {
     "data": {
      "text/plain": [
       "[processingSubscription]       2252\n",
       "[activationComplete]            531\n",
       "[paused]                        167\n",
       "[activation]                     20\n",
       "[cancelRequested]                16\n",
       "[processingTopUp]                 6\n",
       "[paymentFailedSubscription]       1\n",
       "Name: statusPrevious, dtype: int64"
      ]
     },
     "execution_count": 375,
     "metadata": {},
     "output_type": "execute_result"
    }
   ],
   "source": [
    "#Status Previous\n",
    "status = target3['statusPrevious'].groupby(target3['customer_id']).unique().reset_index()\n",
    "status['statusPrevious'].value_counts()"
   ]
  },
  {
   "cell_type": "code",
   "execution_count": 376,
   "metadata": {},
   "outputs": [
    {
     "data": {
      "text/plain": [
       "[0]     305\n",
       "[1]     516\n",
       "[2]     209\n",
       "[3]     380\n",
       "[4]     431\n",
       "[5]     295\n",
       "[6]     304\n",
       "[7]     347\n",
       "[8]      67\n",
       "[9]      41\n",
       "[10]     27\n",
       "[11]     38\n",
       "[12]     33\n",
       "Name: tenure, dtype: int64"
      ]
     },
     "execution_count": 376,
     "metadata": {},
     "output_type": "execute_result"
    }
   ],
   "source": [
    "#Tenure\n",
    "tenure = target3['tenure'].groupby(target3['customer_id']).unique().reset_index()\n",
    "tenure['tenure'].value_counts().sort_index(ascending=True)"
   ]
  },
  {
   "cell_type": "code",
   "execution_count": 377,
   "metadata": {},
   "outputs": [
    {
     "data": {
      "image/png": "[encoded data removed]",
      "text/plain": [
       "<Figure size 432x288 with 1 Axes>"
      ]
     },
     "metadata": {
      "needs_background": "light"
     },
     "output_type": "display_data"
    }
   ],
   "source": [
    "ax = tenure['tenure'].value_counts().sort_index(ascending=True).plot.bar(color = '#15F407')\n",
    "ax.set_title('Target 3 - Fidelidade')\n",
    "plt.xticks(rotation=0)\n",
    "plt.xlabel('Meses')\n",
    "ax.grid(axis = 'y')"
   ]
  },
  {
   "cell_type": "code",
   "execution_count": 378,
   "metadata": {},
   "outputs": [
    {
     "data": {
      "text/plain": [
       "[customPackage]    2491\n",
       "[madePackage-0]     258\n",
       "[madePackage-1]     219\n",
       "[madePackage-3]      14\n",
       "[madePackage-2]      11\n",
       "Name: current_package, dtype: int64"
      ]
     },
     "execution_count": 378,
     "metadata": {},
     "output_type": "execute_result"
    }
   ],
   "source": [
    "#Current Package\n",
    "packaget3= target3['current_package'].groupby(target3['customer_id']).unique().reset_index()\n",
    "packaget3['current_package'].value_counts()"
   ]
  },
  {
   "cell_type": "code",
   "execution_count": 379,
   "metadata": {},
   "outputs": [
    {
     "data": {
      "text/plain": [
       "Renovação do APP                                                 31288\n",
       "500MB de Dados Móveis Top Up                                      8073\n",
       "500MB de Dados Móveis                                             7546\n",
       "30 Minutos de Ligação                                             4173\n",
       "30 Minutos de Ligação Top Up                                      3264\n",
       "10 SMS                                                            1174\n",
       "10 SMS Top Up                                                      595\n",
       "5GB de Dados Móveis | Minutos de Ligação Ilimitados | 10 SMS       302\n",
       "10GB de Dados Móveis | Minutos de Ligação Ilimitados | 10 SMS      253\n",
       "5GB de Dados Móveis | Minutos de Ligação Ilimitados | 50 SMS        33\n",
       "30GB de Dados Móveis | Minutos de Ligação Ilimitados | 10 SMS       16\n",
       "10GB de Dados Móveis | Minutos de Ligação Ilimitados | 50 SMS       12\n",
       "20GB de Dados Móveis | Minutos de Ligação Ilimitados | 10 SMS       11\n",
       "30GB de Dados Móveis | Minutos de Ligação Ilimitados | 50 SMS        1\n",
       "Name: produtos, dtype: int64"
      ]
     },
     "execution_count": 379,
     "metadata": {},
     "output_type": "execute_result"
    }
   ],
   "source": [
    "#Produtos\n",
    "target3['produtos'].value_counts()"
   ]
  },
  {
   "cell_type": "code",
   "execution_count": 380,
   "metadata": {},
   "outputs": [
    {
     "data": {
      "image/png": "[encoded data removed]",
      "text/plain": [
       "<Figure size 1152x648 with 1 Axes>"
      ]
     },
     "metadata": {
      "needs_background": "light"
     },
     "output_type": "display_data"
    }
   ],
   "source": [
    "produtos3= target3['produtos'].value_counts()\n",
    "fig=plt.figure(figsize=(16,9))\n",
    "sns.barplot(y=produtos3.index,x=produtos3.values, palette = \"YlGn\")\n",
    "plt.title('Target 3 - Produtos',fontsize=20)\n",
    "plt.xlabel('Frequência',fontsize=17)\n",
    "plt.grid(axis=\"x\")"
   ]
  },
  {
   "cell_type": "code",
   "execution_count": 381,
   "metadata": {},
   "outputs": [
    {
     "data": {
      "text/html": [
       "<div>\n",
       "<style scoped>\n",
       "    .dataframe tbody tr th:only-of-type {\n",
       "        vertical-align: middle;\n",
       "    }\n",
       "\n",
       "    .dataframe tbody tr th {\n",
       "        vertical-align: top;\n",
       "    }\n",
       "\n",
       "    .dataframe thead th {\n",
       "        text-align: right;\n",
       "    }\n",
       "</style>\n",
       "<table border=\"1\" class=\"dataframe\">\n",
       "  <thead>\n",
       "    <tr style=\"text-align: right;\">\n",
       "      <th></th>\n",
       "      <th>index</th>\n",
       "      <th>recurrence</th>\n",
       "    </tr>\n",
       "  </thead>\n",
       "  <tbody>\n",
       "    <tr>\n",
       "      <th>0</th>\n",
       "      <td>monthly</td>\n",
       "      <td>28989</td>\n",
       "    </tr>\n",
       "    <tr>\n",
       "      <th>1</th>\n",
       "      <td>weekly</td>\n",
       "      <td>27752</td>\n",
       "    </tr>\n",
       "  </tbody>\n",
       "</table>\n",
       "</div>"
      ],
      "text/plain": [
       "     index  recurrence\n",
       "0  monthly       28989\n",
       "1   weekly       27752"
      ]
     },
     "execution_count": 381,
     "metadata": {},
     "output_type": "execute_result"
    }
   ],
   "source": [
    "#recurrence\n",
    "target3['recurrence'].value_counts().reset_index()"
   ]
  },
  {
   "cell_type": "code",
   "execution_count": 382,
   "metadata": {},
   "outputs": [
    {
     "data": {
      "text/plain": [
       "Text(0.5, 1.0, 'Target 3 - Recorrência de renovação')"
      ]
     },
     "execution_count": 382,
     "metadata": {},
     "output_type": "execute_result"
    },
    {
     "data": {
      "image/png": "[encoded data removed]",
      "text/plain": [
       "<Figure size 432x288 with 1 Axes>"
      ]
     },
     "metadata": {},
     "output_type": "display_data"
    }
   ],
   "source": [
    "data = target3['recurrence'].value_counts()\n",
    "y = data.values\n",
    "x = data.index\n",
    "\n",
    "colors = ['#15F407','#31572c']\n",
    "\n",
    "porcent = 100.*y/y.sum()\n",
    "\n",
    "patches, texts = plt.pie(y, colors = colors, startangle=90, radius=1.2, wedgeprops = { 'linewidth' : 0.2, 'edgecolor' : 'white' })\n",
    "labels = ['{0} - {1:1.2f} %'.format(i,j) for i,j in zip(x, porcent)]\n",
    "\n",
    "plt.legend(patches, labels, loc='lower center', bbox_to_anchor=(.5,1),ncol=2,\n",
    "           fontsize=10)\n",
    "plt.title('Target 3 - Recorrência de renovação', pad=35)"
   ]
  },
  {
   "cell_type": "code",
   "execution_count": 383,
   "metadata": {},
   "outputs": [
    {
     "data": {
      "text/html": [
       "<div>\n",
       "<style scoped>\n",
       "    .dataframe tbody tr th:only-of-type {\n",
       "        vertical-align: middle;\n",
       "    }\n",
       "\n",
       "    .dataframe tbody tr th {\n",
       "        vertical-align: top;\n",
       "    }\n",
       "\n",
       "    .dataframe thead th {\n",
       "        text-align: right;\n",
       "    }\n",
       "</style>\n",
       "<table border=\"1\" class=\"dataframe\">\n",
       "  <thead>\n",
       "    <tr style=\"text-align: right;\">\n",
       "      <th></th>\n",
       "      <th>customer_id</th>\n",
       "      <th>preços</th>\n",
       "    </tr>\n",
       "  </thead>\n",
       "  <tbody>\n",
       "    <tr>\n",
       "      <th>0</th>\n",
       "      <td>011nhqQ4gyMCNfwLdjjXaRPo5PF3</td>\n",
       "      <td>66.97</td>\n",
       "    </tr>\n",
       "    <tr>\n",
       "      <th>1</th>\n",
       "      <td>027onaL5DKXWigqGc4ZOiBniTJC2</td>\n",
       "      <td>73.98</td>\n",
       "    </tr>\n",
       "    <tr>\n",
       "      <th>2</th>\n",
       "      <td>02DozqKFn1RmId9AKn0xPumtb8L2</td>\n",
       "      <td>217.89</td>\n",
       "    </tr>\n",
       "    <tr>\n",
       "      <th>3</th>\n",
       "      <td>02LXPVt3aogCJUuHuAsxxoENekt2</td>\n",
       "      <td>13.98</td>\n",
       "    </tr>\n",
       "    <tr>\n",
       "      <th>4</th>\n",
       "      <td>02zv4oiyIugUuWGOgE0jgLZC2kr1</td>\n",
       "      <td>49.99</td>\n",
       "    </tr>\n",
       "  </tbody>\n",
       "</table>\n",
       "</div>"
      ],
      "text/plain": [
       "                    customer_id  preços\n",
       "0  011nhqQ4gyMCNfwLdjjXaRPo5PF3   66.97\n",
       "1  027onaL5DKXWigqGc4ZOiBniTJC2   73.98\n",
       "2  02DozqKFn1RmId9AKn0xPumtb8L2  217.89\n",
       "3  02LXPVt3aogCJUuHuAsxxoENekt2   13.98\n",
       "4  02zv4oiyIugUuWGOgE0jgLZC2kr1   49.99"
      ]
     },
     "execution_count": 383,
     "metadata": {},
     "output_type": "execute_result"
    }
   ],
   "source": [
    "#Preços\n",
    "#Quanto gasta cada cliente\n",
    "target3_gastos = target3['preços'].groupby(target3['customer_id']).sum().reset_index()\n",
    "target3_gastos.head()"
   ]
  },
  {
   "cell_type": "code",
   "execution_count": 386,
   "metadata": {},
   "outputs": [
    {
     "data": {
      "text/html": [
       "<div>\n",
       "<style scoped>\n",
       "    .dataframe tbody tr th:only-of-type {\n",
       "        vertical-align: middle;\n",
       "    }\n",
       "\n",
       "    .dataframe tbody tr th {\n",
       "        vertical-align: top;\n",
       "    }\n",
       "\n",
       "    .dataframe thead th {\n",
       "        text-align: right;\n",
       "    }\n",
       "</style>\n",
       "<table border=\"1\" class=\"dataframe\">\n",
       "  <thead>\n",
       "    <tr style=\"text-align: right;\">\n",
       "      <th></th>\n",
       "      <th>preços</th>\n",
       "    </tr>\n",
       "  </thead>\n",
       "  <tbody>\n",
       "    <tr>\n",
       "      <th>count</th>\n",
       "      <td>2993.000000</td>\n",
       "    </tr>\n",
       "    <tr>\n",
       "      <th>mean</th>\n",
       "      <td>66.936779</td>\n",
       "    </tr>\n",
       "    <tr>\n",
       "      <th>std</th>\n",
       "      <td>69.194333</td>\n",
       "    </tr>\n",
       "    <tr>\n",
       "      <th>min</th>\n",
       "      <td>2.000000</td>\n",
       "    </tr>\n",
       "    <tr>\n",
       "      <th>25%</th>\n",
       "      <td>21.980000</td>\n",
       "    </tr>\n",
       "    <tr>\n",
       "      <th>50%</th>\n",
       "      <td>49.990000</td>\n",
       "    </tr>\n",
       "    <tr>\n",
       "      <th>75%</th>\n",
       "      <td>89.960000</td>\n",
       "    </tr>\n",
       "    <tr>\n",
       "      <th>max</th>\n",
       "      <td>1161.670000</td>\n",
       "    </tr>\n",
       "  </tbody>\n",
       "</table>\n",
       "</div>"
      ],
      "text/plain": [
       "            preços\n",
       "count  2993.000000\n",
       "mean     66.936779\n",
       "std      69.194333\n",
       "min       2.000000\n",
       "25%      21.980000\n",
       "50%      49.990000\n",
       "75%      89.960000\n",
       "max    1161.670000"
      ]
     },
     "execution_count": 386,
     "metadata": {},
     "output_type": "execute_result"
    }
   ],
   "source": [
    "target3_gastos.describe()"
   ]
  },
  {
   "cell_type": "code",
   "execution_count": 384,
   "metadata": {},
   "outputs": [
    {
     "data": {
      "text/plain": [
       "39.99     120\n",
       "49.99     118\n",
       "9.99       73\n",
       "6.99       50\n",
       "2.00       45\n",
       "         ... \n",
       "120.87      1\n",
       "161.97      1\n",
       "316.80      1\n",
       "64.95       1\n",
       "39.97       1\n",
       "Name: preços, Length: 1120, dtype: int64"
      ]
     },
     "execution_count": 384,
     "metadata": {},
     "output_type": "execute_result"
    }
   ],
   "source": [
    "target3_gastos['preços'].value_counts().sort_values(ascending=False)"
   ]
  },
  {
   "cell_type": "code",
   "execution_count": 385,
   "metadata": {},
   "outputs": [
    {
     "data": {
      "image/png": "[encoded data removed]",
      "text/plain": [
       "<Figure size 432x288 with 1 Axes>"
      ]
     },
     "metadata": {
      "needs_background": "light"
     },
     "output_type": "display_data"
    }
   ],
   "source": [
    "ax = target3_gastos['preços'].value_counts().sort_values(ascending=False).plot.hist(bins = 20, color ='#15F407')\n",
    "ax.set_title('Target 3 - Preços')\n",
    "ax.set_ylabel('Quantidade de clientes')\n",
    "ax.set_xlabel('Média de gastos - R$')\n",
    "\n",
    "ax.grid(axis = 'y')"
   ]
  },
  {
   "cell_type": "code",
   "execution_count": 387,
   "metadata": {},
   "outputs": [
    {
     "data": {
      "text/plain": [
       "[11]    1273\n",
       "[12]     121\n",
       "[13]      66\n",
       "[14]     101\n",
       "[15]      68\n",
       "[16]     365\n",
       "[17]      72\n",
       "[18]      56\n",
       "[19]     314\n",
       "[21]      56\n",
       "[22]      10\n",
       "[24]      13\n",
       "[31]      78\n",
       "[32]      15\n",
       "[33]      10\n",
       "[34]      25\n",
       "[35]      17\n",
       "[41]      53\n",
       "[42]       5\n",
       "[43]      23\n",
       "[44]      24\n",
       "[45]       7\n",
       "[61]      80\n",
       "[62]     115\n",
       "[64]      26\n",
       "Name: areaCode, dtype: int64"
      ]
     },
     "execution_count": 387,
     "metadata": {},
     "output_type": "execute_result"
    }
   ],
   "source": [
    "#Código de Área e Estado\n",
    "area3 = target3['areaCode'].groupby(target3['customer_id']).unique().reset_index()\n",
    "area3['areaCode'].value_counts().sort_index(ascending=True)"
   ]
  },
  {
   "cell_type": "code",
   "execution_count": 388,
   "metadata": {},
   "outputs": [
    {
     "data": {
      "image/png": "[encoded data removed]",
      "text/plain": [
       "<Figure size 1080x432 with 1 Axes>"
      ]
     },
     "metadata": {
      "needs_background": "light"
     },
     "output_type": "display_data"
    }
   ],
   "source": [
    "ax = area3['areaCode'].value_counts().sort_index(ascending=True).plot.bar(color = '#15F407', figsize = (15,6))\n",
    "ax.set_title(\"Target 3 - Código de área\")\n",
    "plt.xticks(rotation=0)\n",
    "plt.xlabel('DDD')\n",
    "ax.grid(axis = 'y')"
   ]
  },
  {
   "cell_type": "code",
   "execution_count": null,
   "metadata": {},
   "outputs": [],
   "source": []
  }
 ],
 "metadata": {
  "kernelspec": {
   "display_name": "Python 3",
   "language": "python",
   "name": "python3"
  },
  "language_info": {
   "codemirror_mode": {
    "name": "ipython",
    "version": 3
   },
   "file_extension": ".py",
   "mimetype": "text/x-python",
   "name": "python",
   "nbconvert_exporter": "python",
   "pygments_lexer": "ipython3",
   "version": "3.8.3"
  }
 },
 "nbformat": 4,
 "nbformat_minor": 4
}
